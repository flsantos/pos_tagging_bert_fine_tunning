{
  "nbformat": 4,
  "nbformat_minor": 0,
  "metadata": {
    "kernelspec": {
      "display_name": "Python 3",
      "language": "python",
      "name": "python3"
    },
    "language_info": {
      "codemirror_mode": {
        "name": "ipython",
        "version": 3
      },
      "file_extension": ".py",
      "mimetype": "text/x-python",
      "name": "python",
      "nbconvert_exporter": "python",
      "pygments_lexer": "ipython3",
      "version": "3.7.6"
    },
    "colab": {
      "name": "Fine-tuning Pretrained Transformer BERT for PoS Tagging (Portuguese).ipynb",
      "provenance": [],
      "toc_visible": true,
      "machine_shape": "hm"
    },
    "accelerator": "GPU",
    "widgets": {
      "application/vnd.jupyter.widget-state+json": {
        "dba28f8f042e4d4d9f562d9294d6b65a": {
          "model_module": "@jupyter-widgets/controls",
          "model_name": "HBoxModel",
          "state": {
            "_view_name": "HBoxView",
            "_dom_classes": [],
            "_model_name": "HBoxModel",
            "_view_module": "@jupyter-widgets/controls",
            "_model_module_version": "1.5.0",
            "_view_count": null,
            "_view_module_version": "1.5.0",
            "box_style": "",
            "layout": "IPY_MODEL_519fb5f6315b4e0ebd13f51dc765eff2",
            "_model_module": "@jupyter-widgets/controls",
            "children": [
              "IPY_MODEL_c435d654acfc45dbbfcd7a758db6d341",
              "IPY_MODEL_acfc4facadec4143b1b43d4e92d499ec"
            ]
          }
        },
        "519fb5f6315b4e0ebd13f51dc765eff2": {
          "model_module": "@jupyter-widgets/base",
          "model_name": "LayoutModel",
          "state": {
            "_view_name": "LayoutView",
            "grid_template_rows": null,
            "right": null,
            "justify_content": null,
            "_view_module": "@jupyter-widgets/base",
            "overflow": null,
            "_model_module_version": "1.2.0",
            "_view_count": null,
            "flex_flow": null,
            "width": null,
            "min_width": null,
            "border": null,
            "align_items": null,
            "bottom": null,
            "_model_module": "@jupyter-widgets/base",
            "top": null,
            "grid_column": null,
            "overflow_y": null,
            "overflow_x": null,
            "grid_auto_flow": null,
            "grid_area": null,
            "grid_template_columns": null,
            "flex": null,
            "_model_name": "LayoutModel",
            "justify_items": null,
            "grid_row": null,
            "max_height": null,
            "align_content": null,
            "visibility": null,
            "align_self": null,
            "height": null,
            "min_height": null,
            "padding": null,
            "grid_auto_rows": null,
            "grid_gap": null,
            "max_width": null,
            "order": null,
            "_view_module_version": "1.2.0",
            "grid_template_areas": null,
            "object_position": null,
            "object_fit": null,
            "grid_auto_columns": null,
            "margin": null,
            "display": null,
            "left": null
          }
        },
        "c435d654acfc45dbbfcd7a758db6d341": {
          "model_module": "@jupyter-widgets/controls",
          "model_name": "FloatProgressModel",
          "state": {
            "_view_name": "ProgressView",
            "style": "IPY_MODEL_5b96cd90659c42e8956a9eadbfa269ce",
            "_dom_classes": [],
            "description": "Downloading: 100%",
            "_model_name": "FloatProgressModel",
            "bar_style": "success",
            "max": 209528,
            "_view_module": "@jupyter-widgets/controls",
            "_model_module_version": "1.5.0",
            "value": 209528,
            "_view_count": null,
            "_view_module_version": "1.5.0",
            "orientation": "horizontal",
            "min": 0,
            "description_tooltip": null,
            "_model_module": "@jupyter-widgets/controls",
            "layout": "IPY_MODEL_5f3783c93797466abff5e4bf1dc6f400"
          }
        },
        "acfc4facadec4143b1b43d4e92d499ec": {
          "model_module": "@jupyter-widgets/controls",
          "model_name": "HTMLModel",
          "state": {
            "_view_name": "HTMLView",
            "style": "IPY_MODEL_cb239522281a4a9298de960fd8ededea",
            "_dom_classes": [],
            "description": "",
            "_model_name": "HTMLModel",
            "placeholder": "​",
            "_view_module": "@jupyter-widgets/controls",
            "_model_module_version": "1.5.0",
            "value": " 210k/210k [00:04&lt;00:00, 44.6kB/s]",
            "_view_count": null,
            "_view_module_version": "1.5.0",
            "description_tooltip": null,
            "_model_module": "@jupyter-widgets/controls",
            "layout": "IPY_MODEL_6c29d562f00643bd8950422c3a337d2d"
          }
        },
        "5b96cd90659c42e8956a9eadbfa269ce": {
          "model_module": "@jupyter-widgets/controls",
          "model_name": "ProgressStyleModel",
          "state": {
            "_view_name": "StyleView",
            "_model_name": "ProgressStyleModel",
            "description_width": "initial",
            "_view_module": "@jupyter-widgets/base",
            "_model_module_version": "1.5.0",
            "_view_count": null,
            "_view_module_version": "1.2.0",
            "bar_color": null,
            "_model_module": "@jupyter-widgets/controls"
          }
        },
        "5f3783c93797466abff5e4bf1dc6f400": {
          "model_module": "@jupyter-widgets/base",
          "model_name": "LayoutModel",
          "state": {
            "_view_name": "LayoutView",
            "grid_template_rows": null,
            "right": null,
            "justify_content": null,
            "_view_module": "@jupyter-widgets/base",
            "overflow": null,
            "_model_module_version": "1.2.0",
            "_view_count": null,
            "flex_flow": null,
            "width": null,
            "min_width": null,
            "border": null,
            "align_items": null,
            "bottom": null,
            "_model_module": "@jupyter-widgets/base",
            "top": null,
            "grid_column": null,
            "overflow_y": null,
            "overflow_x": null,
            "grid_auto_flow": null,
            "grid_area": null,
            "grid_template_columns": null,
            "flex": null,
            "_model_name": "LayoutModel",
            "justify_items": null,
            "grid_row": null,
            "max_height": null,
            "align_content": null,
            "visibility": null,
            "align_self": null,
            "height": null,
            "min_height": null,
            "padding": null,
            "grid_auto_rows": null,
            "grid_gap": null,
            "max_width": null,
            "order": null,
            "_view_module_version": "1.2.0",
            "grid_template_areas": null,
            "object_position": null,
            "object_fit": null,
            "grid_auto_columns": null,
            "margin": null,
            "display": null,
            "left": null
          }
        },
        "cb239522281a4a9298de960fd8ededea": {
          "model_module": "@jupyter-widgets/controls",
          "model_name": "DescriptionStyleModel",
          "state": {
            "_view_name": "StyleView",
            "_model_name": "DescriptionStyleModel",
            "description_width": "",
            "_view_module": "@jupyter-widgets/base",
            "_model_module_version": "1.5.0",
            "_view_count": null,
            "_view_module_version": "1.2.0",
            "_model_module": "@jupyter-widgets/controls"
          }
        },
        "6c29d562f00643bd8950422c3a337d2d": {
          "model_module": "@jupyter-widgets/base",
          "model_name": "LayoutModel",
          "state": {
            "_view_name": "LayoutView",
            "grid_template_rows": null,
            "right": null,
            "justify_content": null,
            "_view_module": "@jupyter-widgets/base",
            "overflow": null,
            "_model_module_version": "1.2.0",
            "_view_count": null,
            "flex_flow": null,
            "width": null,
            "min_width": null,
            "border": null,
            "align_items": null,
            "bottom": null,
            "_model_module": "@jupyter-widgets/base",
            "top": null,
            "grid_column": null,
            "overflow_y": null,
            "overflow_x": null,
            "grid_auto_flow": null,
            "grid_area": null,
            "grid_template_columns": null,
            "flex": null,
            "_model_name": "LayoutModel",
            "justify_items": null,
            "grid_row": null,
            "max_height": null,
            "align_content": null,
            "visibility": null,
            "align_self": null,
            "height": null,
            "min_height": null,
            "padding": null,
            "grid_auto_rows": null,
            "grid_gap": null,
            "max_width": null,
            "order": null,
            "_view_module_version": "1.2.0",
            "grid_template_areas": null,
            "object_position": null,
            "object_fit": null,
            "grid_auto_columns": null,
            "margin": null,
            "display": null,
            "left": null
          }
        },
        "aa7efb84854e419ca6ae28d96efcda7c": {
          "model_module": "@jupyter-widgets/controls",
          "model_name": "HBoxModel",
          "state": {
            "_view_name": "HBoxView",
            "_dom_classes": [],
            "_model_name": "HBoxModel",
            "_view_module": "@jupyter-widgets/controls",
            "_model_module_version": "1.5.0",
            "_view_count": null,
            "_view_module_version": "1.5.0",
            "box_style": "",
            "layout": "IPY_MODEL_d1db2bc238d04bae87e66a9924cde46e",
            "_model_module": "@jupyter-widgets/controls",
            "children": [
              "IPY_MODEL_2ace62e5fdd74dc8bff5182ee6400388",
              "IPY_MODEL_cb25b07e05af45b3b7fe72260a505278"
            ]
          }
        },
        "d1db2bc238d04bae87e66a9924cde46e": {
          "model_module": "@jupyter-widgets/base",
          "model_name": "LayoutModel",
          "state": {
            "_view_name": "LayoutView",
            "grid_template_rows": null,
            "right": null,
            "justify_content": null,
            "_view_module": "@jupyter-widgets/base",
            "overflow": null,
            "_model_module_version": "1.2.0",
            "_view_count": null,
            "flex_flow": null,
            "width": null,
            "min_width": null,
            "border": null,
            "align_items": null,
            "bottom": null,
            "_model_module": "@jupyter-widgets/base",
            "top": null,
            "grid_column": null,
            "overflow_y": null,
            "overflow_x": null,
            "grid_auto_flow": null,
            "grid_area": null,
            "grid_template_columns": null,
            "flex": null,
            "_model_name": "LayoutModel",
            "justify_items": null,
            "grid_row": null,
            "max_height": null,
            "align_content": null,
            "visibility": null,
            "align_self": null,
            "height": null,
            "min_height": null,
            "padding": null,
            "grid_auto_rows": null,
            "grid_gap": null,
            "max_width": null,
            "order": null,
            "_view_module_version": "1.2.0",
            "grid_template_areas": null,
            "object_position": null,
            "object_fit": null,
            "grid_auto_columns": null,
            "margin": null,
            "display": null,
            "left": null
          }
        },
        "2ace62e5fdd74dc8bff5182ee6400388": {
          "model_module": "@jupyter-widgets/controls",
          "model_name": "FloatProgressModel",
          "state": {
            "_view_name": "ProgressView",
            "style": "IPY_MODEL_ec58698296a34d36903f1adde89ce296",
            "_dom_classes": [],
            "description": "Downloading: 100%",
            "_model_name": "FloatProgressModel",
            "bar_style": "success",
            "max": 2,
            "_view_module": "@jupyter-widgets/controls",
            "_model_module_version": "1.5.0",
            "value": 2,
            "_view_count": null,
            "_view_module_version": "1.5.0",
            "orientation": "horizontal",
            "min": 0,
            "description_tooltip": null,
            "_model_module": "@jupyter-widgets/controls",
            "layout": "IPY_MODEL_4776dfac84a64bb5ab1e4b72a3ddbe3b"
          }
        },
        "cb25b07e05af45b3b7fe72260a505278": {
          "model_module": "@jupyter-widgets/controls",
          "model_name": "HTMLModel",
          "state": {
            "_view_name": "HTMLView",
            "style": "IPY_MODEL_157dcb84889d42b38a596e3e72f9a6a6",
            "_dom_classes": [],
            "description": "",
            "_model_name": "HTMLModel",
            "placeholder": "​",
            "_view_module": "@jupyter-widgets/controls",
            "_model_module_version": "1.5.0",
            "value": " 2.00/2.00 [00:01&lt;00:00, 1.74B/s]",
            "_view_count": null,
            "_view_module_version": "1.5.0",
            "description_tooltip": null,
            "_model_module": "@jupyter-widgets/controls",
            "layout": "IPY_MODEL_151a50028ecd460eba1ddcba623907f0"
          }
        },
        "ec58698296a34d36903f1adde89ce296": {
          "model_module": "@jupyter-widgets/controls",
          "model_name": "ProgressStyleModel",
          "state": {
            "_view_name": "StyleView",
            "_model_name": "ProgressStyleModel",
            "description_width": "initial",
            "_view_module": "@jupyter-widgets/base",
            "_model_module_version": "1.5.0",
            "_view_count": null,
            "_view_module_version": "1.2.0",
            "bar_color": null,
            "_model_module": "@jupyter-widgets/controls"
          }
        },
        "4776dfac84a64bb5ab1e4b72a3ddbe3b": {
          "model_module": "@jupyter-widgets/base",
          "model_name": "LayoutModel",
          "state": {
            "_view_name": "LayoutView",
            "grid_template_rows": null,
            "right": null,
            "justify_content": null,
            "_view_module": "@jupyter-widgets/base",
            "overflow": null,
            "_model_module_version": "1.2.0",
            "_view_count": null,
            "flex_flow": null,
            "width": null,
            "min_width": null,
            "border": null,
            "align_items": null,
            "bottom": null,
            "_model_module": "@jupyter-widgets/base",
            "top": null,
            "grid_column": null,
            "overflow_y": null,
            "overflow_x": null,
            "grid_auto_flow": null,
            "grid_area": null,
            "grid_template_columns": null,
            "flex": null,
            "_model_name": "LayoutModel",
            "justify_items": null,
            "grid_row": null,
            "max_height": null,
            "align_content": null,
            "visibility": null,
            "align_self": null,
            "height": null,
            "min_height": null,
            "padding": null,
            "grid_auto_rows": null,
            "grid_gap": null,
            "max_width": null,
            "order": null,
            "_view_module_version": "1.2.0",
            "grid_template_areas": null,
            "object_position": null,
            "object_fit": null,
            "grid_auto_columns": null,
            "margin": null,
            "display": null,
            "left": null
          }
        },
        "157dcb84889d42b38a596e3e72f9a6a6": {
          "model_module": "@jupyter-widgets/controls",
          "model_name": "DescriptionStyleModel",
          "state": {
            "_view_name": "StyleView",
            "_model_name": "DescriptionStyleModel",
            "description_width": "",
            "_view_module": "@jupyter-widgets/base",
            "_model_module_version": "1.5.0",
            "_view_count": null,
            "_view_module_version": "1.2.0",
            "_model_module": "@jupyter-widgets/controls"
          }
        },
        "151a50028ecd460eba1ddcba623907f0": {
          "model_module": "@jupyter-widgets/base",
          "model_name": "LayoutModel",
          "state": {
            "_view_name": "LayoutView",
            "grid_template_rows": null,
            "right": null,
            "justify_content": null,
            "_view_module": "@jupyter-widgets/base",
            "overflow": null,
            "_model_module_version": "1.2.0",
            "_view_count": null,
            "flex_flow": null,
            "width": null,
            "min_width": null,
            "border": null,
            "align_items": null,
            "bottom": null,
            "_model_module": "@jupyter-widgets/base",
            "top": null,
            "grid_column": null,
            "overflow_y": null,
            "overflow_x": null,
            "grid_auto_flow": null,
            "grid_area": null,
            "grid_template_columns": null,
            "flex": null,
            "_model_name": "LayoutModel",
            "justify_items": null,
            "grid_row": null,
            "max_height": null,
            "align_content": null,
            "visibility": null,
            "align_self": null,
            "height": null,
            "min_height": null,
            "padding": null,
            "grid_auto_rows": null,
            "grid_gap": null,
            "max_width": null,
            "order": null,
            "_view_module_version": "1.2.0",
            "grid_template_areas": null,
            "object_position": null,
            "object_fit": null,
            "grid_auto_columns": null,
            "margin": null,
            "display": null,
            "left": null
          }
        },
        "5c13854474504d65b621803e81e3b6b2": {
          "model_module": "@jupyter-widgets/controls",
          "model_name": "HBoxModel",
          "state": {
            "_view_name": "HBoxView",
            "_dom_classes": [],
            "_model_name": "HBoxModel",
            "_view_module": "@jupyter-widgets/controls",
            "_model_module_version": "1.5.0",
            "_view_count": null,
            "_view_module_version": "1.5.0",
            "box_style": "",
            "layout": "IPY_MODEL_2bca2c4afa844b6b925504e74eb84be7",
            "_model_module": "@jupyter-widgets/controls",
            "children": [
              "IPY_MODEL_0ef3f952ab9d45599775f3217e5dbef1",
              "IPY_MODEL_62de4044989643fb8008298d22b12bc9"
            ]
          }
        },
        "2bca2c4afa844b6b925504e74eb84be7": {
          "model_module": "@jupyter-widgets/base",
          "model_name": "LayoutModel",
          "state": {
            "_view_name": "LayoutView",
            "grid_template_rows": null,
            "right": null,
            "justify_content": null,
            "_view_module": "@jupyter-widgets/base",
            "overflow": null,
            "_model_module_version": "1.2.0",
            "_view_count": null,
            "flex_flow": null,
            "width": null,
            "min_width": null,
            "border": null,
            "align_items": null,
            "bottom": null,
            "_model_module": "@jupyter-widgets/base",
            "top": null,
            "grid_column": null,
            "overflow_y": null,
            "overflow_x": null,
            "grid_auto_flow": null,
            "grid_area": null,
            "grid_template_columns": null,
            "flex": null,
            "_model_name": "LayoutModel",
            "justify_items": null,
            "grid_row": null,
            "max_height": null,
            "align_content": null,
            "visibility": null,
            "align_self": null,
            "height": null,
            "min_height": null,
            "padding": null,
            "grid_auto_rows": null,
            "grid_gap": null,
            "max_width": null,
            "order": null,
            "_view_module_version": "1.2.0",
            "grid_template_areas": null,
            "object_position": null,
            "object_fit": null,
            "grid_auto_columns": null,
            "margin": null,
            "display": null,
            "left": null
          }
        },
        "0ef3f952ab9d45599775f3217e5dbef1": {
          "model_module": "@jupyter-widgets/controls",
          "model_name": "FloatProgressModel",
          "state": {
            "_view_name": "ProgressView",
            "style": "IPY_MODEL_cb017b5adc294c7b845be7324ec6a06d",
            "_dom_classes": [],
            "description": "Downloading: 100%",
            "_model_name": "FloatProgressModel",
            "bar_style": "success",
            "max": 112,
            "_view_module": "@jupyter-widgets/controls",
            "_model_module_version": "1.5.0",
            "value": 112,
            "_view_count": null,
            "_view_module_version": "1.5.0",
            "orientation": "horizontal",
            "min": 0,
            "description_tooltip": null,
            "_model_module": "@jupyter-widgets/controls",
            "layout": "IPY_MODEL_9e1747cce51145ee830084ef658080c2"
          }
        },
        "62de4044989643fb8008298d22b12bc9": {
          "model_module": "@jupyter-widgets/controls",
          "model_name": "HTMLModel",
          "state": {
            "_view_name": "HTMLView",
            "style": "IPY_MODEL_09fc66ab85334bf584fe650808b5ae46",
            "_dom_classes": [],
            "description": "",
            "_model_name": "HTMLModel",
            "placeholder": "​",
            "_view_module": "@jupyter-widgets/controls",
            "_model_module_version": "1.5.0",
            "value": " 112/112 [00:01&lt;00:00, 64.6B/s]",
            "_view_count": null,
            "_view_module_version": "1.5.0",
            "description_tooltip": null,
            "_model_module": "@jupyter-widgets/controls",
            "layout": "IPY_MODEL_34edc3cf59cf489490c05c0082fa0347"
          }
        },
        "cb017b5adc294c7b845be7324ec6a06d": {
          "model_module": "@jupyter-widgets/controls",
          "model_name": "ProgressStyleModel",
          "state": {
            "_view_name": "StyleView",
            "_model_name": "ProgressStyleModel",
            "description_width": "initial",
            "_view_module": "@jupyter-widgets/base",
            "_model_module_version": "1.5.0",
            "_view_count": null,
            "_view_module_version": "1.2.0",
            "bar_color": null,
            "_model_module": "@jupyter-widgets/controls"
          }
        },
        "9e1747cce51145ee830084ef658080c2": {
          "model_module": "@jupyter-widgets/base",
          "model_name": "LayoutModel",
          "state": {
            "_view_name": "LayoutView",
            "grid_template_rows": null,
            "right": null,
            "justify_content": null,
            "_view_module": "@jupyter-widgets/base",
            "overflow": null,
            "_model_module_version": "1.2.0",
            "_view_count": null,
            "flex_flow": null,
            "width": null,
            "min_width": null,
            "border": null,
            "align_items": null,
            "bottom": null,
            "_model_module": "@jupyter-widgets/base",
            "top": null,
            "grid_column": null,
            "overflow_y": null,
            "overflow_x": null,
            "grid_auto_flow": null,
            "grid_area": null,
            "grid_template_columns": null,
            "flex": null,
            "_model_name": "LayoutModel",
            "justify_items": null,
            "grid_row": null,
            "max_height": null,
            "align_content": null,
            "visibility": null,
            "align_self": null,
            "height": null,
            "min_height": null,
            "padding": null,
            "grid_auto_rows": null,
            "grid_gap": null,
            "max_width": null,
            "order": null,
            "_view_module_version": "1.2.0",
            "grid_template_areas": null,
            "object_position": null,
            "object_fit": null,
            "grid_auto_columns": null,
            "margin": null,
            "display": null,
            "left": null
          }
        },
        "09fc66ab85334bf584fe650808b5ae46": {
          "model_module": "@jupyter-widgets/controls",
          "model_name": "DescriptionStyleModel",
          "state": {
            "_view_name": "StyleView",
            "_model_name": "DescriptionStyleModel",
            "description_width": "",
            "_view_module": "@jupyter-widgets/base",
            "_model_module_version": "1.5.0",
            "_view_count": null,
            "_view_module_version": "1.2.0",
            "_model_module": "@jupyter-widgets/controls"
          }
        },
        "34edc3cf59cf489490c05c0082fa0347": {
          "model_module": "@jupyter-widgets/base",
          "model_name": "LayoutModel",
          "state": {
            "_view_name": "LayoutView",
            "grid_template_rows": null,
            "right": null,
            "justify_content": null,
            "_view_module": "@jupyter-widgets/base",
            "overflow": null,
            "_model_module_version": "1.2.0",
            "_view_count": null,
            "flex_flow": null,
            "width": null,
            "min_width": null,
            "border": null,
            "align_items": null,
            "bottom": null,
            "_model_module": "@jupyter-widgets/base",
            "top": null,
            "grid_column": null,
            "overflow_y": null,
            "overflow_x": null,
            "grid_auto_flow": null,
            "grid_area": null,
            "grid_template_columns": null,
            "flex": null,
            "_model_name": "LayoutModel",
            "justify_items": null,
            "grid_row": null,
            "max_height": null,
            "align_content": null,
            "visibility": null,
            "align_self": null,
            "height": null,
            "min_height": null,
            "padding": null,
            "grid_auto_rows": null,
            "grid_gap": null,
            "max_width": null,
            "order": null,
            "_view_module_version": "1.2.0",
            "grid_template_areas": null,
            "object_position": null,
            "object_fit": null,
            "grid_auto_columns": null,
            "margin": null,
            "display": null,
            "left": null
          }
        },
        "5442edcd6e6c4a019a8f39d84513c4e4": {
          "model_module": "@jupyter-widgets/controls",
          "model_name": "HBoxModel",
          "state": {
            "_view_name": "HBoxView",
            "_dom_classes": [],
            "_model_name": "HBoxModel",
            "_view_module": "@jupyter-widgets/controls",
            "_model_module_version": "1.5.0",
            "_view_count": null,
            "_view_module_version": "1.5.0",
            "box_style": "",
            "layout": "IPY_MODEL_5962bcdd7c4c4d6f8f7b0fcb78cd3928",
            "_model_module": "@jupyter-widgets/controls",
            "children": [
              "IPY_MODEL_ea0453a2f4b64e36b1ed3846f49825ab",
              "IPY_MODEL_c454f44cf83d43868944153de3073da7"
            ]
          }
        },
        "5962bcdd7c4c4d6f8f7b0fcb78cd3928": {
          "model_module": "@jupyter-widgets/base",
          "model_name": "LayoutModel",
          "state": {
            "_view_name": "LayoutView",
            "grid_template_rows": null,
            "right": null,
            "justify_content": null,
            "_view_module": "@jupyter-widgets/base",
            "overflow": null,
            "_model_module_version": "1.2.0",
            "_view_count": null,
            "flex_flow": null,
            "width": null,
            "min_width": null,
            "border": null,
            "align_items": null,
            "bottom": null,
            "_model_module": "@jupyter-widgets/base",
            "top": null,
            "grid_column": null,
            "overflow_y": null,
            "overflow_x": null,
            "grid_auto_flow": null,
            "grid_area": null,
            "grid_template_columns": null,
            "flex": null,
            "_model_name": "LayoutModel",
            "justify_items": null,
            "grid_row": null,
            "max_height": null,
            "align_content": null,
            "visibility": null,
            "align_self": null,
            "height": null,
            "min_height": null,
            "padding": null,
            "grid_auto_rows": null,
            "grid_gap": null,
            "max_width": null,
            "order": null,
            "_view_module_version": "1.2.0",
            "grid_template_areas": null,
            "object_position": null,
            "object_fit": null,
            "grid_auto_columns": null,
            "margin": null,
            "display": null,
            "left": null
          }
        },
        "ea0453a2f4b64e36b1ed3846f49825ab": {
          "model_module": "@jupyter-widgets/controls",
          "model_name": "FloatProgressModel",
          "state": {
            "_view_name": "ProgressView",
            "style": "IPY_MODEL_c28f5206164844e380fa6ee0775b5a6f",
            "_dom_classes": [],
            "description": "Downloading: 100%",
            "_model_name": "FloatProgressModel",
            "bar_style": "success",
            "max": 43,
            "_view_module": "@jupyter-widgets/controls",
            "_model_module_version": "1.5.0",
            "value": 43,
            "_view_count": null,
            "_view_module_version": "1.5.0",
            "orientation": "horizontal",
            "min": 0,
            "description_tooltip": null,
            "_model_module": "@jupyter-widgets/controls",
            "layout": "IPY_MODEL_e3a46b63ecc94f9ea4c4ac8221cc5dc2"
          }
        },
        "c454f44cf83d43868944153de3073da7": {
          "model_module": "@jupyter-widgets/controls",
          "model_name": "HTMLModel",
          "state": {
            "_view_name": "HTMLView",
            "style": "IPY_MODEL_38b6e6f234db4bca9641549f6df8470b",
            "_dom_classes": [],
            "description": "",
            "_model_name": "HTMLModel",
            "placeholder": "​",
            "_view_module": "@jupyter-widgets/controls",
            "_model_module_version": "1.5.0",
            "value": " 43.0/43.0 [00:00&lt;00:00, 70.2B/s]",
            "_view_count": null,
            "_view_module_version": "1.5.0",
            "description_tooltip": null,
            "_model_module": "@jupyter-widgets/controls",
            "layout": "IPY_MODEL_6d30de6bffc743dabcd14f1c0bb4b691"
          }
        },
        "c28f5206164844e380fa6ee0775b5a6f": {
          "model_module": "@jupyter-widgets/controls",
          "model_name": "ProgressStyleModel",
          "state": {
            "_view_name": "StyleView",
            "_model_name": "ProgressStyleModel",
            "description_width": "initial",
            "_view_module": "@jupyter-widgets/base",
            "_model_module_version": "1.5.0",
            "_view_count": null,
            "_view_module_version": "1.2.0",
            "bar_color": null,
            "_model_module": "@jupyter-widgets/controls"
          }
        },
        "e3a46b63ecc94f9ea4c4ac8221cc5dc2": {
          "model_module": "@jupyter-widgets/base",
          "model_name": "LayoutModel",
          "state": {
            "_view_name": "LayoutView",
            "grid_template_rows": null,
            "right": null,
            "justify_content": null,
            "_view_module": "@jupyter-widgets/base",
            "overflow": null,
            "_model_module_version": "1.2.0",
            "_view_count": null,
            "flex_flow": null,
            "width": null,
            "min_width": null,
            "border": null,
            "align_items": null,
            "bottom": null,
            "_model_module": "@jupyter-widgets/base",
            "top": null,
            "grid_column": null,
            "overflow_y": null,
            "overflow_x": null,
            "grid_auto_flow": null,
            "grid_area": null,
            "grid_template_columns": null,
            "flex": null,
            "_model_name": "LayoutModel",
            "justify_items": null,
            "grid_row": null,
            "max_height": null,
            "align_content": null,
            "visibility": null,
            "align_self": null,
            "height": null,
            "min_height": null,
            "padding": null,
            "grid_auto_rows": null,
            "grid_gap": null,
            "max_width": null,
            "order": null,
            "_view_module_version": "1.2.0",
            "grid_template_areas": null,
            "object_position": null,
            "object_fit": null,
            "grid_auto_columns": null,
            "margin": null,
            "display": null,
            "left": null
          }
        },
        "38b6e6f234db4bca9641549f6df8470b": {
          "model_module": "@jupyter-widgets/controls",
          "model_name": "DescriptionStyleModel",
          "state": {
            "_view_name": "StyleView",
            "_model_name": "DescriptionStyleModel",
            "description_width": "",
            "_view_module": "@jupyter-widgets/base",
            "_model_module_version": "1.5.0",
            "_view_count": null,
            "_view_module_version": "1.2.0",
            "_model_module": "@jupyter-widgets/controls"
          }
        },
        "6d30de6bffc743dabcd14f1c0bb4b691": {
          "model_module": "@jupyter-widgets/base",
          "model_name": "LayoutModel",
          "state": {
            "_view_name": "LayoutView",
            "grid_template_rows": null,
            "right": null,
            "justify_content": null,
            "_view_module": "@jupyter-widgets/base",
            "overflow": null,
            "_model_module_version": "1.2.0",
            "_view_count": null,
            "flex_flow": null,
            "width": null,
            "min_width": null,
            "border": null,
            "align_items": null,
            "bottom": null,
            "_model_module": "@jupyter-widgets/base",
            "top": null,
            "grid_column": null,
            "overflow_y": null,
            "overflow_x": null,
            "grid_auto_flow": null,
            "grid_area": null,
            "grid_template_columns": null,
            "flex": null,
            "_model_name": "LayoutModel",
            "justify_items": null,
            "grid_row": null,
            "max_height": null,
            "align_content": null,
            "visibility": null,
            "align_self": null,
            "height": null,
            "min_height": null,
            "padding": null,
            "grid_auto_rows": null,
            "grid_gap": null,
            "max_width": null,
            "order": null,
            "_view_module_version": "1.2.0",
            "grid_template_areas": null,
            "object_position": null,
            "object_fit": null,
            "grid_auto_columns": null,
            "margin": null,
            "display": null,
            "left": null
          }
        },
        "f098c56d5b8b4d58bc02805fe6ecc81a": {
          "model_module": "@jupyter-widgets/controls",
          "model_name": "HBoxModel",
          "state": {
            "_view_name": "HBoxView",
            "_dom_classes": [],
            "_model_name": "HBoxModel",
            "_view_module": "@jupyter-widgets/controls",
            "_model_module_version": "1.5.0",
            "_view_count": null,
            "_view_module_version": "1.5.0",
            "box_style": "",
            "layout": "IPY_MODEL_bf97440604d84a0eb9762c786a054a30",
            "_model_module": "@jupyter-widgets/controls",
            "children": [
              "IPY_MODEL_f61f510643354d19b2bf10bc0122b10e",
              "IPY_MODEL_7dba011f3a6d48b79b08a200dc244605"
            ]
          }
        },
        "bf97440604d84a0eb9762c786a054a30": {
          "model_module": "@jupyter-widgets/base",
          "model_name": "LayoutModel",
          "state": {
            "_view_name": "LayoutView",
            "grid_template_rows": null,
            "right": null,
            "justify_content": null,
            "_view_module": "@jupyter-widgets/base",
            "overflow": null,
            "_model_module_version": "1.2.0",
            "_view_count": null,
            "flex_flow": null,
            "width": null,
            "min_width": null,
            "border": null,
            "align_items": null,
            "bottom": null,
            "_model_module": "@jupyter-widgets/base",
            "top": null,
            "grid_column": null,
            "overflow_y": null,
            "overflow_x": null,
            "grid_auto_flow": null,
            "grid_area": null,
            "grid_template_columns": null,
            "flex": null,
            "_model_name": "LayoutModel",
            "justify_items": null,
            "grid_row": null,
            "max_height": null,
            "align_content": null,
            "visibility": null,
            "align_self": null,
            "height": null,
            "min_height": null,
            "padding": null,
            "grid_auto_rows": null,
            "grid_gap": null,
            "max_width": null,
            "order": null,
            "_view_module_version": "1.2.0",
            "grid_template_areas": null,
            "object_position": null,
            "object_fit": null,
            "grid_auto_columns": null,
            "margin": null,
            "display": null,
            "left": null
          }
        },
        "f61f510643354d19b2bf10bc0122b10e": {
          "model_module": "@jupyter-widgets/controls",
          "model_name": "FloatProgressModel",
          "state": {
            "_view_name": "ProgressView",
            "style": "IPY_MODEL_9ac2e0cf224c4ccb88ebe60219050a4c",
            "_dom_classes": [],
            "description": "Downloading: 100%",
            "_model_name": "FloatProgressModel",
            "bar_style": "success",
            "max": 647,
            "_view_module": "@jupyter-widgets/controls",
            "_model_module_version": "1.5.0",
            "value": 647,
            "_view_count": null,
            "_view_module_version": "1.5.0",
            "orientation": "horizontal",
            "min": 0,
            "description_tooltip": null,
            "_model_module": "@jupyter-widgets/controls",
            "layout": "IPY_MODEL_e4c28deb16c84f0686d7d77ed9328616"
          }
        },
        "7dba011f3a6d48b79b08a200dc244605": {
          "model_module": "@jupyter-widgets/controls",
          "model_name": "HTMLModel",
          "state": {
            "_view_name": "HTMLView",
            "style": "IPY_MODEL_fd14025405bb43a3a8a6e35502d4875b",
            "_dom_classes": [],
            "description": "",
            "_model_name": "HTMLModel",
            "placeholder": "​",
            "_view_module": "@jupyter-widgets/controls",
            "_model_module_version": "1.5.0",
            "value": " 647/647 [00:25&lt;00:00, 25.1B/s]",
            "_view_count": null,
            "_view_module_version": "1.5.0",
            "description_tooltip": null,
            "_model_module": "@jupyter-widgets/controls",
            "layout": "IPY_MODEL_bdad53b155fa47a8a2b5b74d2d8f829d"
          }
        },
        "9ac2e0cf224c4ccb88ebe60219050a4c": {
          "model_module": "@jupyter-widgets/controls",
          "model_name": "ProgressStyleModel",
          "state": {
            "_view_name": "StyleView",
            "_model_name": "ProgressStyleModel",
            "description_width": "initial",
            "_view_module": "@jupyter-widgets/base",
            "_model_module_version": "1.5.0",
            "_view_count": null,
            "_view_module_version": "1.2.0",
            "bar_color": null,
            "_model_module": "@jupyter-widgets/controls"
          }
        },
        "e4c28deb16c84f0686d7d77ed9328616": {
          "model_module": "@jupyter-widgets/base",
          "model_name": "LayoutModel",
          "state": {
            "_view_name": "LayoutView",
            "grid_template_rows": null,
            "right": null,
            "justify_content": null,
            "_view_module": "@jupyter-widgets/base",
            "overflow": null,
            "_model_module_version": "1.2.0",
            "_view_count": null,
            "flex_flow": null,
            "width": null,
            "min_width": null,
            "border": null,
            "align_items": null,
            "bottom": null,
            "_model_module": "@jupyter-widgets/base",
            "top": null,
            "grid_column": null,
            "overflow_y": null,
            "overflow_x": null,
            "grid_auto_flow": null,
            "grid_area": null,
            "grid_template_columns": null,
            "flex": null,
            "_model_name": "LayoutModel",
            "justify_items": null,
            "grid_row": null,
            "max_height": null,
            "align_content": null,
            "visibility": null,
            "align_self": null,
            "height": null,
            "min_height": null,
            "padding": null,
            "grid_auto_rows": null,
            "grid_gap": null,
            "max_width": null,
            "order": null,
            "_view_module_version": "1.2.0",
            "grid_template_areas": null,
            "object_position": null,
            "object_fit": null,
            "grid_auto_columns": null,
            "margin": null,
            "display": null,
            "left": null
          }
        },
        "fd14025405bb43a3a8a6e35502d4875b": {
          "model_module": "@jupyter-widgets/controls",
          "model_name": "DescriptionStyleModel",
          "state": {
            "_view_name": "StyleView",
            "_model_name": "DescriptionStyleModel",
            "description_width": "",
            "_view_module": "@jupyter-widgets/base",
            "_model_module_version": "1.5.0",
            "_view_count": null,
            "_view_module_version": "1.2.0",
            "_model_module": "@jupyter-widgets/controls"
          }
        },
        "bdad53b155fa47a8a2b5b74d2d8f829d": {
          "model_module": "@jupyter-widgets/base",
          "model_name": "LayoutModel",
          "state": {
            "_view_name": "LayoutView",
            "grid_template_rows": null,
            "right": null,
            "justify_content": null,
            "_view_module": "@jupyter-widgets/base",
            "overflow": null,
            "_model_module_version": "1.2.0",
            "_view_count": null,
            "flex_flow": null,
            "width": null,
            "min_width": null,
            "border": null,
            "align_items": null,
            "bottom": null,
            "_model_module": "@jupyter-widgets/base",
            "top": null,
            "grid_column": null,
            "overflow_y": null,
            "overflow_x": null,
            "grid_auto_flow": null,
            "grid_area": null,
            "grid_template_columns": null,
            "flex": null,
            "_model_name": "LayoutModel",
            "justify_items": null,
            "grid_row": null,
            "max_height": null,
            "align_content": null,
            "visibility": null,
            "align_self": null,
            "height": null,
            "min_height": null,
            "padding": null,
            "grid_auto_rows": null,
            "grid_gap": null,
            "max_width": null,
            "order": null,
            "_view_module_version": "1.2.0",
            "grid_template_areas": null,
            "object_position": null,
            "object_fit": null,
            "grid_auto_columns": null,
            "margin": null,
            "display": null,
            "left": null
          }
        },
        "958a39a544134d619fc4f9faf2274b9f": {
          "model_module": "@jupyter-widgets/controls",
          "model_name": "HBoxModel",
          "state": {
            "_view_name": "HBoxView",
            "_dom_classes": [],
            "_model_name": "HBoxModel",
            "_view_module": "@jupyter-widgets/controls",
            "_model_module_version": "1.5.0",
            "_view_count": null,
            "_view_module_version": "1.5.0",
            "box_style": "",
            "layout": "IPY_MODEL_77b8307e79344917915915967dcca263",
            "_model_module": "@jupyter-widgets/controls",
            "children": [
              "IPY_MODEL_9eec8b9c222b4419ac60154d9517a841",
              "IPY_MODEL_bc89bc664dc648f893989caf3f035ede"
            ]
          }
        },
        "77b8307e79344917915915967dcca263": {
          "model_module": "@jupyter-widgets/base",
          "model_name": "LayoutModel",
          "state": {
            "_view_name": "LayoutView",
            "grid_template_rows": null,
            "right": null,
            "justify_content": null,
            "_view_module": "@jupyter-widgets/base",
            "overflow": null,
            "_model_module_version": "1.2.0",
            "_view_count": null,
            "flex_flow": null,
            "width": null,
            "min_width": null,
            "border": null,
            "align_items": null,
            "bottom": null,
            "_model_module": "@jupyter-widgets/base",
            "top": null,
            "grid_column": null,
            "overflow_y": null,
            "overflow_x": null,
            "grid_auto_flow": null,
            "grid_area": null,
            "grid_template_columns": null,
            "flex": null,
            "_model_name": "LayoutModel",
            "justify_items": null,
            "grid_row": null,
            "max_height": null,
            "align_content": null,
            "visibility": null,
            "align_self": null,
            "height": null,
            "min_height": null,
            "padding": null,
            "grid_auto_rows": null,
            "grid_gap": null,
            "max_width": null,
            "order": null,
            "_view_module_version": "1.2.0",
            "grid_template_areas": null,
            "object_position": null,
            "object_fit": null,
            "grid_auto_columns": null,
            "margin": null,
            "display": null,
            "left": null
          }
        },
        "9eec8b9c222b4419ac60154d9517a841": {
          "model_module": "@jupyter-widgets/controls",
          "model_name": "FloatProgressModel",
          "state": {
            "_view_name": "ProgressView",
            "style": "IPY_MODEL_274d8187d82446a6a1e235760cfd36f3",
            "_dom_classes": [],
            "description": "Downloading: 100%",
            "_model_name": "FloatProgressModel",
            "bar_style": "success",
            "max": 438235074,
            "_view_module": "@jupyter-widgets/controls",
            "_model_module_version": "1.5.0",
            "value": 438235074,
            "_view_count": null,
            "_view_module_version": "1.5.0",
            "orientation": "horizontal",
            "min": 0,
            "description_tooltip": null,
            "_model_module": "@jupyter-widgets/controls",
            "layout": "IPY_MODEL_e7255f0128da48e88aeccfcc59d12a39"
          }
        },
        "bc89bc664dc648f893989caf3f035ede": {
          "model_module": "@jupyter-widgets/controls",
          "model_name": "HTMLModel",
          "state": {
            "_view_name": "HTMLView",
            "style": "IPY_MODEL_357a18a04d0c48cdbb9476ce6a58bf14",
            "_dom_classes": [],
            "description": "",
            "_model_name": "HTMLModel",
            "placeholder": "​",
            "_view_module": "@jupyter-widgets/controls",
            "_model_module_version": "1.5.0",
            "value": " 438M/438M [00:08&lt;00:00, 52.2MB/s]",
            "_view_count": null,
            "_view_module_version": "1.5.0",
            "description_tooltip": null,
            "_model_module": "@jupyter-widgets/controls",
            "layout": "IPY_MODEL_1407e85d81f14e058244fcdcc09461d6"
          }
        },
        "274d8187d82446a6a1e235760cfd36f3": {
          "model_module": "@jupyter-widgets/controls",
          "model_name": "ProgressStyleModel",
          "state": {
            "_view_name": "StyleView",
            "_model_name": "ProgressStyleModel",
            "description_width": "initial",
            "_view_module": "@jupyter-widgets/base",
            "_model_module_version": "1.5.0",
            "_view_count": null,
            "_view_module_version": "1.2.0",
            "bar_color": null,
            "_model_module": "@jupyter-widgets/controls"
          }
        },
        "e7255f0128da48e88aeccfcc59d12a39": {
          "model_module": "@jupyter-widgets/base",
          "model_name": "LayoutModel",
          "state": {
            "_view_name": "LayoutView",
            "grid_template_rows": null,
            "right": null,
            "justify_content": null,
            "_view_module": "@jupyter-widgets/base",
            "overflow": null,
            "_model_module_version": "1.2.0",
            "_view_count": null,
            "flex_flow": null,
            "width": null,
            "min_width": null,
            "border": null,
            "align_items": null,
            "bottom": null,
            "_model_module": "@jupyter-widgets/base",
            "top": null,
            "grid_column": null,
            "overflow_y": null,
            "overflow_x": null,
            "grid_auto_flow": null,
            "grid_area": null,
            "grid_template_columns": null,
            "flex": null,
            "_model_name": "LayoutModel",
            "justify_items": null,
            "grid_row": null,
            "max_height": null,
            "align_content": null,
            "visibility": null,
            "align_self": null,
            "height": null,
            "min_height": null,
            "padding": null,
            "grid_auto_rows": null,
            "grid_gap": null,
            "max_width": null,
            "order": null,
            "_view_module_version": "1.2.0",
            "grid_template_areas": null,
            "object_position": null,
            "object_fit": null,
            "grid_auto_columns": null,
            "margin": null,
            "display": null,
            "left": null
          }
        },
        "357a18a04d0c48cdbb9476ce6a58bf14": {
          "model_module": "@jupyter-widgets/controls",
          "model_name": "DescriptionStyleModel",
          "state": {
            "_view_name": "StyleView",
            "_model_name": "DescriptionStyleModel",
            "description_width": "",
            "_view_module": "@jupyter-widgets/base",
            "_model_module_version": "1.5.0",
            "_view_count": null,
            "_view_module_version": "1.2.0",
            "_model_module": "@jupyter-widgets/controls"
          }
        },
        "1407e85d81f14e058244fcdcc09461d6": {
          "model_module": "@jupyter-widgets/base",
          "model_name": "LayoutModel",
          "state": {
            "_view_name": "LayoutView",
            "grid_template_rows": null,
            "right": null,
            "justify_content": null,
            "_view_module": "@jupyter-widgets/base",
            "overflow": null,
            "_model_module_version": "1.2.0",
            "_view_count": null,
            "flex_flow": null,
            "width": null,
            "min_width": null,
            "border": null,
            "align_items": null,
            "bottom": null,
            "_model_module": "@jupyter-widgets/base",
            "top": null,
            "grid_column": null,
            "overflow_y": null,
            "overflow_x": null,
            "grid_auto_flow": null,
            "grid_area": null,
            "grid_template_columns": null,
            "flex": null,
            "_model_name": "LayoutModel",
            "justify_items": null,
            "grid_row": null,
            "max_height": null,
            "align_content": null,
            "visibility": null,
            "align_self": null,
            "height": null,
            "min_height": null,
            "padding": null,
            "grid_auto_rows": null,
            "grid_gap": null,
            "max_width": null,
            "order": null,
            "_view_module_version": "1.2.0",
            "grid_template_areas": null,
            "object_position": null,
            "object_fit": null,
            "grid_auto_columns": null,
            "margin": null,
            "display": null,
            "left": null
          }
        }
      }
    }
  },
  "cells": [
    {
      "cell_type": "markdown",
      "metadata": {
        "id": "zrlTQ4RsXU-V"
      },
      "source": [
        "# Fine-tuning Pretrained Transformers for PoS Tagging\n",
        "\n",
        "## Introduction\n",
        "\n",
        "In the previous notebook we showed how to use a BiLSTM with pretrained GloVe embeddings for PoS tagging. In this notebook we'll be using a pretrained [Transformer](https://arxiv.org/abs/1706.03762) model, specifically the pre-trained [BERT](https://arxiv.org/abs/1810.04805) model. Our model will be composed of the Transformer and a simple linear layer.\n",
        "\n",
        "\n",
        "First, let's import the necessary Python modules.\n",
        "In google colab you will need to install the `transformers` library.\n",
        "\n",
        "```\n",
        "!pip install transformers\n",
        "```"
      ]
    },
    {
      "cell_type": "code",
      "metadata": {
        "id": "pcLVRjnjXzg7",
        "colab": {
          "base_uri": "https://localhost:8080/"
        },
        "outputId": "46fd0e17-b895-4291-b6e6-9187ca504bba"
      },
      "source": [
        "!pip install transformers"
      ],
      "execution_count": null,
      "outputs": [
        {
          "output_type": "stream",
          "text": [
            "Collecting transformers\n",
            "\u001b[?25l  Downloading https://files.pythonhosted.org/packages/50/0c/7d5950fcd80b029be0a8891727ba21e0cd27692c407c51261c3c921f6da3/transformers-4.1.1-py3-none-any.whl (1.5MB)\n",
            "\u001b[K     |████████████████████████████████| 1.5MB 4.3MB/s \n",
            "\u001b[?25hRequirement already satisfied: tqdm>=4.27 in /usr/local/lib/python3.6/dist-packages (from transformers) (4.41.1)\n",
            "Requirement already satisfied: regex!=2019.12.17 in /usr/local/lib/python3.6/dist-packages (from transformers) (2019.12.20)\n",
            "Requirement already satisfied: filelock in /usr/local/lib/python3.6/dist-packages (from transformers) (3.0.12)\n",
            "Collecting sacremoses\n",
            "\u001b[?25l  Downloading https://files.pythonhosted.org/packages/7d/34/09d19aff26edcc8eb2a01bed8e98f13a1537005d31e95233fd48216eed10/sacremoses-0.0.43.tar.gz (883kB)\n",
            "\u001b[K     |████████████████████████████████| 890kB 44.7MB/s \n",
            "\u001b[?25hRequirement already satisfied: requests in /usr/local/lib/python3.6/dist-packages (from transformers) (2.23.0)\n",
            "Requirement already satisfied: dataclasses; python_version < \"3.7\" in /usr/local/lib/python3.6/dist-packages (from transformers) (0.8)\n",
            "Collecting tokenizers==0.9.4\n",
            "\u001b[?25l  Downloading https://files.pythonhosted.org/packages/0f/1c/e789a8b12e28be5bc1ce2156cf87cb522b379be9cadc7ad8091a4cc107c4/tokenizers-0.9.4-cp36-cp36m-manylinux2010_x86_64.whl (2.9MB)\n",
            "\u001b[K     |████████████████████████████████| 2.9MB 42.2MB/s \n",
            "\u001b[?25hRequirement already satisfied: numpy in /usr/local/lib/python3.6/dist-packages (from transformers) (1.19.4)\n",
            "Requirement already satisfied: packaging in /usr/local/lib/python3.6/dist-packages (from transformers) (20.8)\n",
            "Requirement already satisfied: six in /usr/local/lib/python3.6/dist-packages (from sacremoses->transformers) (1.15.0)\n",
            "Requirement already satisfied: click in /usr/local/lib/python3.6/dist-packages (from sacremoses->transformers) (7.1.2)\n",
            "Requirement already satisfied: joblib in /usr/local/lib/python3.6/dist-packages (from sacremoses->transformers) (1.0.0)\n",
            "Requirement already satisfied: idna<3,>=2.5 in /usr/local/lib/python3.6/dist-packages (from requests->transformers) (2.10)\n",
            "Requirement already satisfied: urllib3!=1.25.0,!=1.25.1,<1.26,>=1.21.1 in /usr/local/lib/python3.6/dist-packages (from requests->transformers) (1.24.3)\n",
            "Requirement already satisfied: chardet<4,>=3.0.2 in /usr/local/lib/python3.6/dist-packages (from requests->transformers) (3.0.4)\n",
            "Requirement already satisfied: certifi>=2017.4.17 in /usr/local/lib/python3.6/dist-packages (from requests->transformers) (2020.12.5)\n",
            "Requirement already satisfied: pyparsing>=2.0.2 in /usr/local/lib/python3.6/dist-packages (from packaging->transformers) (2.4.7)\n",
            "Building wheels for collected packages: sacremoses\n",
            "  Building wheel for sacremoses (setup.py) ... \u001b[?25l\u001b[?25hdone\n",
            "  Created wheel for sacremoses: filename=sacremoses-0.0.43-cp36-none-any.whl size=893261 sha256=75d9da5ea010b4cdba4cdbb44f769704074464e0b758a010341156ecf47a75d4\n",
            "  Stored in directory: /root/.cache/pip/wheels/29/3c/fd/7ce5c3f0666dab31a50123635e6fb5e19ceb42ce38d4e58f45\n",
            "Successfully built sacremoses\n",
            "Installing collected packages: sacremoses, tokenizers, transformers\n",
            "Successfully installed sacremoses-0.0.43 tokenizers-0.9.4 transformers-4.1.1\n"
          ],
          "name": "stdout"
        }
      ]
    },
    {
      "cell_type": "markdown",
      "metadata": {
        "id": "uUYR3KLMQltE"
      },
      "source": [
        "### Portuguese Corpus from Linguateca\n",
        "\n",
        "* The corpus: https://www.linguateca.pt/CETENFolha/\n",
        "* We'll download the corpus and extract only the sentences with their Part-Of-Speech Tag\n"
      ]
    },
    {
      "cell_type": "code",
      "metadata": {
        "id": "fWPfM6jiSp1J"
      },
      "source": [
        "import numpy as np\n",
        "import pandas as pd\n",
        "import io\n",
        "import re\n",
        "import gc\n",
        "\n",
        "from sklearn.model_selection import train_test_split"
      ],
      "execution_count": null,
      "outputs": []
    },
    {
      "cell_type": "code",
      "metadata": {
        "colab": {
          "base_uri": "https://localhost:8080/"
        },
        "id": "CjX6gzgCR9-1",
        "outputId": "895fe059-025e-45c3-99f7-f185949bd179"
      },
      "source": [
        "!wget https://www.linguateca.pt/cetenfolha/download/CETENFolha-1.0_jan2014.cg.gz\n",
        "!gunzip CETENFolha-1.0_jan2014.cg.gz"
      ],
      "execution_count": null,
      "outputs": [
        {
          "output_type": "stream",
          "text": [
            "--2020-12-25 13:48:46--  https://www.linguateca.pt/cetenfolha/download/CETENFolha-1.0_jan2014.cg.gz\n",
            "Resolving www.linguateca.pt (www.linguateca.pt)... 193.137.199.21, 2001:690:a00:3038:218::21\n",
            "Connecting to www.linguateca.pt (www.linguateca.pt)|193.137.199.21|:443... connected.\n",
            "HTTP request sent, awaiting response... 200 OK\n",
            "Length: 264395706 (252M) [application/x-gzip]\n",
            "Saving to: ‘CETENFolha-1.0_jan2014.cg.gz’\n",
            "\n",
            "CETENFolha-1.0_jan2 100%[===================>] 252.15M  10.2MB/s    in 27s     \n",
            "\n",
            "2020-12-25 13:49:15 (9.47 MB/s) - ‘CETENFolha-1.0_jan2014.cg.gz’ saved [264395706/264395706]\n",
            "\n"
          ],
          "name": "stdout"
        }
      ]
    },
    {
      "cell_type": "markdown",
      "metadata": {
        "id": "KijemRs0S4x0"
      },
      "source": [
        "* Read the corpus"
      ]
    },
    {
      "cell_type": "code",
      "metadata": {
        "id": "o-HQqg1yR-YP"
      },
      "source": [
        "file = io.open(\"CETENFolha-1.0_jan2014.cg\", mode=\"r\", encoding=\"utf-8\")\n",
        "file.seek(0)\n",
        "corpus = file.read()"
      ],
      "execution_count": null,
      "outputs": []
    },
    {
      "cell_type": "markdown",
      "metadata": {
        "id": "IcAPE52ES4BF"
      },
      "source": [
        "* Preprocess, extract sentences and clean the dataset"
      ]
    },
    {
      "cell_type": "code",
      "metadata": {
        "colab": {
          "base_uri": "https://localhost:8080/"
        },
        "id": "mEXdYFW5SX2I",
        "outputId": "676ddaa6-fd20-4f75-fc2c-fd967de1a052"
      },
      "source": [
        "def clean_and_split(corpus):\n",
        "    aux = re.sub('<.*?>', '', corpus)\n",
        "    aux = re.sub('<.*?>', '', aux)\n",
        "    aux = re.sub('\\[.*?\\]', '', aux)\n",
        "    aux = re.sub('  +', ' ', aux)\n",
        "    aux = re.sub('\\n\\n+','\\n\\n', aux)\n",
        "    return aux.split(\"\\n\\n\")\n",
        "    \n",
        "sentences = clean_and_split(corpus)\n",
        "del corpus\n",
        "\n",
        "PUNCT_TAG = \"__PUNCT__\"\n",
        "phrases = [[\n",
        "        #(l.split(\"\\t\")[0].lower().strip() if len(l.split(\"\\t\")) > 1 else l.split(\" \")[0],\n",
        "        (l.split(\"\\t\")[0].strip() if len(l.split(\"\\t\")) > 1 else l.split(\" \")[0],\n",
        "        l.split(\"\\t\")[1].split(\" \")[1] if len(l.split(\"\\t\")) > 1 else PUNCT_TAG)\n",
        "        for l in s.split(\"\\n\")] \n",
        "        for s in list(filter(None, sentences))]\n",
        "del sentences\n",
        "\n",
        "#Remove frases vazias \n",
        "phrases = list(filter(lambda p: (len(p) != 1 or p[0][0] != ''), phrases))\n",
        "\n",
        "### Remove qualquer sentença que possua uma etiqueta que não seja uma dessas tags\n",
        "#allowed_tags = ['N','DET','PRP','V','PROP','$,','ADJ','$.','ADV','NUM','KC','$\"','SPEC','PERS','KS','$)','$(','$:','$--','$?','$;',\"$'\",'$!','IN','$...','EC','$pause','$`','$+','$=','PRON','$$','$]','$[','PP','$±','$~','GER','PU','$|','M','$_']\n",
        "allowed_tags = ['N','DET','PRP','V','PROP','ADJ','ADV','NUM','KC','SPEC','PERS','KS','IN','EC','PRON',PUNCT_TAG]\n",
        "phrases = (list(filter(lambda s: all(tk[1] in allowed_tags for tk in s), phrases)))\n",
        "\n",
        "print('Amount of sentences: ', len(phrases))"
      ],
      "execution_count": null,
      "outputs": [
        {
          "output_type": "stream",
          "text": [
            "Amount of sentences:  1692979\n"
          ],
          "name": "stdout"
        }
      ]
    },
    {
      "cell_type": "code",
      "metadata": {
        "colab": {
          "base_uri": "https://localhost:8080/"
        },
        "id": "ljn64lKTQmt8",
        "outputId": "debe7a02-3c07-4881-e968-72d527c2aa11"
      },
      "source": [
        "phrases[102]"
      ],
      "execution_count": null,
      "outputs": [
        {
          "output_type": "execute_result",
          "data": {
            "text/plain": [
              "[('Os', 'DET'),\n",
              " ('Papéis=De=FLAVIO-SHIRÓ', 'PROP'),\n",
              " ('$--', '__PUNCT__'),\n",
              " ('A', 'PERS'),\n",
              " ('mostra', 'V'),\n",
              " ('$,', '__PUNCT__'),\n",
              " ('que', 'KS'),\n",
              " ('faz', 'V'),\n",
              " ('parte', 'N'),\n",
              " ('de', 'PRP'),\n",
              " ('as', 'DET'),\n",
              " ('comemorações', 'N'),\n",
              " ('de', 'PRP'),\n",
              " ('os', 'DET'),\n",
              " ('50', 'NUM'),\n",
              " ('anos', 'N'),\n",
              " ('de', 'PRP'),\n",
              " ('pintura', 'N'),\n",
              " ('de', 'PRP'),\n",
              " ('o', 'DET'),\n",
              " ('artista', 'N'),\n",
              " ('japonês', 'ADJ'),\n",
              " ('$,', '__PUNCT__'),\n",
              " ('reúne', 'V'),\n",
              " ('25', 'NUM'),\n",
              " ('obras', 'N'),\n",
              " ('em', 'PRP'),\n",
              " ('pequenos', 'ADJ'),\n",
              " ('formatos', 'N'),\n",
              " ('$.', '__PUNCT__')]"
            ]
          },
          "metadata": {
            "tags": []
          },
          "execution_count": 6
        }
      ]
    },
    {
      "cell_type": "markdown",
      "metadata": {
        "id": "PkgvD2QzTAo-"
      },
      "source": [
        "* Split the dataset into Train, Validation and Test"
      ]
    },
    {
      "cell_type": "code",
      "metadata": {
        "id": "Ob41NU9ATHin"
      },
      "source": [
        "phrases_train , phrases_test = train_test_split(phrases,test_size=0.2, random_state=42)\n",
        "phrases_train , phrases_valid = train_test_split(phrases_train,test_size=0.2, random_state=42)"
      ],
      "execution_count": null,
      "outputs": []
    },
    {
      "cell_type": "markdown",
      "metadata": {
        "id": "cmIcC-ciTMSg"
      },
      "source": [
        "* Save the dataset again as separate files into the expected format for TorchText SequenceTaggingDataset"
      ]
    },
    {
      "cell_type": "code",
      "metadata": {
        "id": "EvblCs4wX4qm"
      },
      "source": [
        "import random\n",
        "random.seed(42)"
      ],
      "execution_count": null,
      "outputs": []
    },
    {
      "cell_type": "code",
      "metadata": {
        "id": "oCRBctt_TH7N"
      },
      "source": [
        "sep_word=\"\\t\"\n",
        "sep_sentence=\"\\n\"\n",
        "\n",
        "f = open(\"train.txt\",\"w\")\n",
        "for p in phrases_train: \n",
        "  for w in p:\n",
        "    f.write(w[0]+sep_word+w[1]+sep_sentence)\n",
        "  f.write(sep_sentence)\n",
        "f.close()\n",
        "\n",
        "\n",
        "f = open(\"valid.txt\",\"w\")\n",
        "for p in phrases_valid: \n",
        "  for w in p:\n",
        "    f.write(w[0]+sep_word+w[1]+sep_sentence)\n",
        "  f.write(sep_sentence)\n",
        "f.close()\n",
        "\n",
        "f = open(\"test.txt\",\"w\")\n",
        "for p in phrases_test: \n",
        "  for w in p:\n",
        "    f.write(w[0]+sep_word+w[1]+sep_sentence)\n",
        "  f.write(sep_sentence)\n",
        "f.close()"
      ],
      "execution_count": null,
      "outputs": []
    },
    {
      "cell_type": "markdown",
      "metadata": {
        "id": "VnIGI0UGRmN2"
      },
      "source": [
        "### Preparing the corpus as a TorchText Dataset\n",
        "\n",
        "\n",
        "\n"
      ]
    },
    {
      "cell_type": "code",
      "metadata": {
        "id": "wb-cNA1mXU-W"
      },
      "source": [
        "import torch\n",
        "import torch.nn as nn\n",
        "import torch.nn.functional as F\n",
        "import torch.optim as optim\n",
        "\n",
        "from torchtext import data\n",
        "from torchtext import datasets\n",
        "\n",
        "from transformers import BertTokenizer, BertModel\n",
        "\n",
        "import numpy as np\n",
        "\n",
        "import time\n",
        "import random\n",
        "import functools"
      ],
      "execution_count": null,
      "outputs": []
    },
    {
      "cell_type": "markdown",
      "metadata": {
        "id": "UkjeMGfgXU-b"
      },
      "source": [
        "Next, we'll set the random seeds for reproducability."
      ]
    },
    {
      "cell_type": "code",
      "metadata": {
        "id": "gv-PYbIUXU-b"
      },
      "source": [
        "SEED = 1234\n",
        "\n",
        "random.seed(SEED)\n",
        "np.random.seed(SEED)\n",
        "torch.manual_seed(SEED)\n",
        "torch.backends.cudnn.deterministic = True"
      ],
      "execution_count": null,
      "outputs": []
    },
    {
      "cell_type": "markdown",
      "metadata": {
        "id": "Jj4DBdJ4XU-e"
      },
      "source": [
        "Then, we'll import the BERT tokenizer. This defines how text into the model should be processed, but more importantly contains the vocabulary that the BERT model was pretrained with. We'll be using the `bert-base-uncased` tokenizer and model. This was trained on text that has been lowercased.\n",
        "\n",
        "In order to use pretrained models for NLP the vocabulary used needs to exactly match that of the pretrained model."
      ]
    },
    {
      "cell_type": "code",
      "metadata": {
        "id": "nS2XMkfxXU-f",
        "colab": {
          "base_uri": "https://localhost:8080/",
          "referenced_widgets": [
            "dba28f8f042e4d4d9f562d9294d6b65a",
            "519fb5f6315b4e0ebd13f51dc765eff2",
            "c435d654acfc45dbbfcd7a758db6d341",
            "acfc4facadec4143b1b43d4e92d499ec",
            "5b96cd90659c42e8956a9eadbfa269ce",
            "5f3783c93797466abff5e4bf1dc6f400",
            "cb239522281a4a9298de960fd8ededea",
            "6c29d562f00643bd8950422c3a337d2d",
            "aa7efb84854e419ca6ae28d96efcda7c",
            "d1db2bc238d04bae87e66a9924cde46e",
            "2ace62e5fdd74dc8bff5182ee6400388",
            "cb25b07e05af45b3b7fe72260a505278",
            "ec58698296a34d36903f1adde89ce296",
            "4776dfac84a64bb5ab1e4b72a3ddbe3b",
            "157dcb84889d42b38a596e3e72f9a6a6",
            "151a50028ecd460eba1ddcba623907f0",
            "5c13854474504d65b621803e81e3b6b2",
            "2bca2c4afa844b6b925504e74eb84be7",
            "0ef3f952ab9d45599775f3217e5dbef1",
            "62de4044989643fb8008298d22b12bc9",
            "cb017b5adc294c7b845be7324ec6a06d",
            "9e1747cce51145ee830084ef658080c2",
            "09fc66ab85334bf584fe650808b5ae46",
            "34edc3cf59cf489490c05c0082fa0347",
            "5442edcd6e6c4a019a8f39d84513c4e4",
            "5962bcdd7c4c4d6f8f7b0fcb78cd3928",
            "ea0453a2f4b64e36b1ed3846f49825ab",
            "c454f44cf83d43868944153de3073da7",
            "c28f5206164844e380fa6ee0775b5a6f",
            "e3a46b63ecc94f9ea4c4ac8221cc5dc2",
            "38b6e6f234db4bca9641549f6df8470b",
            "6d30de6bffc743dabcd14f1c0bb4b691"
          ]
        },
        "outputId": "7307d63b-3aa5-421a-f3cc-1c97ca203960"
      },
      "source": [
        "### Here I'll be using a different pre-trained model: https://github.com/neuralmind-ai/portuguese-bert\n",
        "tokenizer = BertTokenizer.from_pretrained('neuralmind/bert-base-portuguese-cased')"
      ],
      "execution_count": null,
      "outputs": [
        {
          "output_type": "display_data",
          "data": {
            "application/vnd.jupyter.widget-view+json": {
              "model_id": "dba28f8f042e4d4d9f562d9294d6b65a",
              "version_minor": 0,
              "version_major": 2
            },
            "text/plain": [
              "HBox(children=(FloatProgress(value=0.0, description='Downloading', max=209528.0, style=ProgressStyle(descripti…"
            ]
          },
          "metadata": {
            "tags": []
          }
        },
        {
          "output_type": "stream",
          "text": [
            "\n"
          ],
          "name": "stdout"
        },
        {
          "output_type": "display_data",
          "data": {
            "application/vnd.jupyter.widget-view+json": {
              "model_id": "aa7efb84854e419ca6ae28d96efcda7c",
              "version_minor": 0,
              "version_major": 2
            },
            "text/plain": [
              "HBox(children=(FloatProgress(value=0.0, description='Downloading', max=2.0, style=ProgressStyle(description_wi…"
            ]
          },
          "metadata": {
            "tags": []
          }
        },
        {
          "output_type": "stream",
          "text": [
            "\n"
          ],
          "name": "stdout"
        },
        {
          "output_type": "display_data",
          "data": {
            "application/vnd.jupyter.widget-view+json": {
              "model_id": "5c13854474504d65b621803e81e3b6b2",
              "version_minor": 0,
              "version_major": 2
            },
            "text/plain": [
              "HBox(children=(FloatProgress(value=0.0, description='Downloading', max=112.0, style=ProgressStyle(description_…"
            ]
          },
          "metadata": {
            "tags": []
          }
        },
        {
          "output_type": "stream",
          "text": [
            "\n"
          ],
          "name": "stdout"
        },
        {
          "output_type": "display_data",
          "data": {
            "application/vnd.jupyter.widget-view+json": {
              "model_id": "5442edcd6e6c4a019a8f39d84513c4e4",
              "version_minor": 0,
              "version_major": 2
            },
            "text/plain": [
              "HBox(children=(FloatProgress(value=0.0, description='Downloading', max=43.0, style=ProgressStyle(description_w…"
            ]
          },
          "metadata": {
            "tags": []
          }
        },
        {
          "output_type": "stream",
          "text": [
            "\n"
          ],
          "name": "stdout"
        }
      ]
    },
    {
      "cell_type": "markdown",
      "metadata": {
        "id": "h9lRko1PXU-i"
      },
      "source": [
        "Another thing that we need to do is make sure the input sequence is formatted in the same way in which the BERT model was trained. \n",
        "\n",
        "BERT was trained on sequences that begin with a `[CLS]` token.\n",
        "\n",
        "So the sequence of tokens\n",
        "\n",
        "```python\n",
        "text = ['jack', 'went', 'to', 'the', 'shop']\n",
        "```\n",
        "\n",
        "should become:\n",
        "\n",
        "```python\n",
        "text = ['[CLS]', 'jack', 'went', 'to', 'the', 'shop']\n",
        "```\n",
        "\n",
        "Along with making our vocabularies match we also need to make sure our padding and unk tokens match those used in the pretrained model. By default TorchText uses `<pad>` and `<unk>`, but the BERT model uses `[PAD]` and `[UNK]`.\n",
        "\n",
        "Let's get the special tokens:"
      ]
    },
    {
      "cell_type": "code",
      "metadata": {
        "id": "bJ7kwurvXU-j",
        "colab": {
          "base_uri": "https://localhost:8080/"
        },
        "outputId": "7655b6ca-dcdb-416b-ad48-48af5fe1ea8f"
      },
      "source": [
        "init_token = tokenizer.cls_token\n",
        "pad_token = tokenizer.pad_token\n",
        "unk_token = tokenizer.unk_token\n",
        "\n",
        "print(init_token, pad_token, unk_token)"
      ],
      "execution_count": null,
      "outputs": [
        {
          "output_type": "stream",
          "text": [
            "[CLS] [PAD] [UNK]\n"
          ],
          "name": "stdout"
        }
      ]
    },
    {
      "cell_type": "markdown",
      "metadata": {
        "id": "O5ftgTExXU-n"
      },
      "source": [
        "We are mainly interested in the actual integer representations of the special tokens. This is because we aren't using TorchText's vocabulary module, but using the one provided by the pretrained model. \n",
        "\n",
        "We get the indexes of the special tokens by passing them through the tokenizer's `convert_tokens_to_ids` function."
      ]
    },
    {
      "cell_type": "code",
      "metadata": {
        "id": "B4TdEVVWXU-n",
        "colab": {
          "base_uri": "https://localhost:8080/"
        },
        "outputId": "aaea9006-ccea-43b1-b9fd-1d5441ecedd3"
      },
      "source": [
        "init_token_idx = tokenizer.convert_tokens_to_ids(init_token)\n",
        "pad_token_idx = tokenizer.convert_tokens_to_ids(pad_token)\n",
        "unk_token_idx = tokenizer.convert_tokens_to_ids(unk_token)\n",
        "\n",
        "print(init_token_idx, pad_token_idx, unk_token_idx)"
      ],
      "execution_count": null,
      "outputs": [
        {
          "output_type": "stream",
          "text": [
            "101 0 100\n"
          ],
          "name": "stdout"
        }
      ]
    },
    {
      "cell_type": "markdown",
      "metadata": {
        "id": "V0XDkA4aXU-r"
      },
      "source": [
        "One other thing is that the pretrained model was trained on sequences up to a maximum length and we need to ensure that our sequences are also trimmed to this length."
      ]
    },
    {
      "cell_type": "code",
      "metadata": {
        "id": "zrAoyoYCXU-r",
        "colab": {
          "base_uri": "https://localhost:8080/"
        },
        "outputId": "4dd28686-99a2-4c8c-d40a-86686a260dd2"
      },
      "source": [
        "max_input_length = tokenizer.max_model_input_sizes['bert-base-cased']\n",
        "\n",
        "print(max_input_length)"
      ],
      "execution_count": null,
      "outputs": [
        {
          "output_type": "stream",
          "text": [
            "512\n"
          ],
          "name": "stdout"
        }
      ]
    },
    {
      "cell_type": "markdown",
      "metadata": {
        "id": "KD_ChHl0XU-v"
      },
      "source": [
        "Next, we'll define two helper functions that make use of our vocabulary.\n",
        "\n",
        "The first will cut the sequence of tokens to the desired maximum length, specified by our pretrained model, and then convert the tokens into indexes by passing them through the vocabulary. This is what we will use on our input sequence we want to tag.\n",
        "\n",
        "Note that we actually cut tokens to `max_input_length-1`, this is because we need to add the special `[CLS]` token to the start of the sequence."
      ]
    },
    {
      "cell_type": "code",
      "metadata": {
        "id": "G_Xjhu3jXU-v"
      },
      "source": [
        "def cut_and_convert_to_id(tokens, tokenizer, max_input_length):\n",
        "    tokens = tokens[:max_input_length-1]\n",
        "    tokens = tokenizer.convert_tokens_to_ids(tokens)\n",
        "    return tokens"
      ],
      "execution_count": null,
      "outputs": []
    },
    {
      "cell_type": "markdown",
      "metadata": {
        "id": "TIOm0RK-XU-y"
      },
      "source": [
        "The second helper function simply cuts the sequence to the maximum length. This is used for our tags. We do not pass the tags through pretrained model's vocabulary as the vocab was only built for English sentences, and not for part-of-speech tags. We will be building the tag vocabulary ourselves."
      ]
    },
    {
      "cell_type": "code",
      "metadata": {
        "id": "TumdN5LnXU-0"
      },
      "source": [
        "def cut_to_max_length(tokens, max_input_length):\n",
        "    tokens = tokens[:max_input_length-1]\n",
        "    return tokens"
      ],
      "execution_count": null,
      "outputs": []
    },
    {
      "cell_type": "markdown",
      "metadata": {
        "id": "zK5u89DMXU-3"
      },
      "source": [
        "We need to pass the above two functions to the `Field`, the TorchText abstraction that handles a lot of the data processing for us. We make use of Python's `functools` that allow us to pass functions which already have some of their arguments supplied. "
      ]
    },
    {
      "cell_type": "code",
      "metadata": {
        "id": "6dgaT_fjXU-3"
      },
      "source": [
        "text_preprocessor = functools.partial(cut_and_convert_to_id,\n",
        "                                      tokenizer = tokenizer,\n",
        "                                      max_input_length = max_input_length)\n",
        "\n",
        "tag_preprocessor = functools.partial(cut_to_max_length,\n",
        "                                     max_input_length = max_input_length)"
      ],
      "execution_count": null,
      "outputs": []
    },
    {
      "cell_type": "markdown",
      "metadata": {
        "id": "hpnVGVgMXU-6"
      },
      "source": [
        "Next, we define our fields.\n",
        "\n",
        "For the `TEXT` field, which will be processing the sequences we want to tag, we first tell TorchText that we do not want to use a vocabulary with `use_vocab = False`. As our model is `uncased`, we also want to ensure all text is lowercased with `lower=True`. The `preprocessing` argument is a function applied to sequences after they have been tokenized, but before they are numericalized. As we have set `use_vocab` to false, they will never actually be numericalized, and as we are using TorchText's POS datasets they have also already been tokenized - so the argument to this will just be applied to the sequence of tokens. This is where our help functions from above come in handy and `text_preprocessor` will both numericalize our data using the pretrained model's vocabulary, as well as cutting it to the maximum length. The remaining four arguments define the special tokens required by the pretrained model.\n",
        "\n",
        "For the `UD_TAGS` field, we need to ensure the length of our tags matches the length of our text sequence. As we have added a `[CLS]` token to the beginning of the text sequence, we need to do the same with the sequence of tags. We do this by adding a `<pad>` token to the beginning which we will later tell our model to not use when calculating losses or accuracy. We won't have unknown tags in our sequence of tags, so we set the `unk_token` to `None`. Finally, we pass our `tag_preprocessor` defined above, which simply cuts the tags to the maximum length our pretrained model can handle."
      ]
    },
    {
      "cell_type": "code",
      "metadata": {
        "id": "LhJEvvF3XU-6"
      },
      "source": [
        "TEXT = data.Field(use_vocab = False,\n",
        "                  lower = False,\n",
        "                  preprocessing = text_preprocessor,\n",
        "                  init_token = init_token_idx,\n",
        "                  pad_token = pad_token_idx,\n",
        "                  unk_token = unk_token_idx)\n",
        "\n",
        "UD_TAGS = data.Field(unk_token = None,\n",
        "                     init_token = '<pad>',\n",
        "                     preprocessing = tag_preprocessor)"
      ],
      "execution_count": null,
      "outputs": []
    },
    {
      "cell_type": "markdown",
      "metadata": {
        "id": "M_1UotuUXU--"
      },
      "source": [
        "Then, we define which of our fields defined above correspond to which fields in the dataset."
      ]
    },
    {
      "cell_type": "code",
      "metadata": {
        "id": "RrTXFdSgXU--"
      },
      "source": [
        "fields = ((\"text\", TEXT), (\"udtags\", UD_TAGS))"
      ],
      "execution_count": null,
      "outputs": []
    },
    {
      "cell_type": "markdown",
      "metadata": {
        "id": "xJotJpLIXU_B"
      },
      "source": [
        "Next, we load the data using our fields."
      ]
    },
    {
      "cell_type": "code",
      "metadata": {
        "id": "gn7OmDceXU_C"
      },
      "source": [
        "train_data, valid_data, test_data = datasets.UDPOS.splits(\n",
        "    fields=fields,\n",
        "    path=\"./\",\n",
        "    train=\"train.txt\",\n",
        "    validation=\"valid.txt\",\n",
        "    test=\"test.txt\", separator='\\t')"
      ],
      "execution_count": null,
      "outputs": []
    },
    {
      "cell_type": "code",
      "metadata": {
        "colab": {
          "base_uri": "https://localhost:8080/"
        },
        "id": "E4OFx26EXRVZ",
        "outputId": "0a38be73-0c57-4244-a6c2-84c39b3a7df1"
      },
      "source": [
        "print(len(train_data))\n",
        "print(len(valid_data))\n",
        "print(len(test_data))"
      ],
      "execution_count": null,
      "outputs": [
        {
          "output_type": "stream",
          "text": [
            "1083506\n",
            "270877\n",
            "338596\n"
          ],
          "name": "stdout"
        }
      ]
    },
    {
      "cell_type": "code",
      "metadata": {
        "colab": {
          "base_uri": "https://localhost:8080/"
        },
        "id": "DVcfQc9Lo5kj",
        "outputId": "876825bd-c13b-42ba-cbd6-96726e9786f9"
      },
      "source": [
        "train_data.examples[0]"
      ],
      "execution_count": null,
      "outputs": [
        {
          "output_type": "execute_result",
          "data": {
            "text/plain": [
              "<torchtext.data.example.Example at 0x7f7886772d68>"
            ]
          },
          "metadata": {
            "tags": []
          },
          "execution_count": 23
        }
      ]
    },
    {
      "cell_type": "markdown",
      "metadata": {
        "id": "cPhIecHJXU_E"
      },
      "source": [
        "We can check an example by printing it. As we have already numericalized our `text` using the vocabulary of the pretrained model, it is already a sequence of integers. The tags have yet to be numericalized. "
      ]
    },
    {
      "cell_type": "code",
      "metadata": {
        "id": "jNLMuA22XU_E",
        "colab": {
          "base_uri": "https://localhost:8080/"
        },
        "outputId": "d57a27fe-4448-41b7-fa34-70a5dca18969"
      },
      "source": [
        "idx=0\n",
        "print(vars(train_data.examples[idx])['text'])\n",
        "print(vars(train_data.examples[idx])['udtags'])"
      ],
      "execution_count": null,
      "outputs": [
        {
          "output_type": "stream",
          "text": [
            "[100, 17399, 100]\n",
            "['PROP', 'ADJ', '__PUNCT__']\n"
          ],
          "name": "stdout"
        }
      ]
    },
    {
      "cell_type": "markdown",
      "metadata": {
        "id": "J3HiRqq8XU_H"
      },
      "source": [
        "Our next step is to build the tag vocabulary so they can be numericalized during training. We do this by using the field's `.build_vocab` method on the `train_data`."
      ]
    },
    {
      "cell_type": "code",
      "metadata": {
        "id": "klpqOEHJXU_I",
        "colab": {
          "base_uri": "https://localhost:8080/"
        },
        "outputId": "1871f99b-735e-46ba-ad99-55ff10209f23"
      },
      "source": [
        "UD_TAGS.build_vocab(train_data)\n",
        "\n",
        "print(UD_TAGS.vocab.stoi)"
      ],
      "execution_count": null,
      "outputs": [
        {
          "output_type": "stream",
          "text": [
            "defaultdict(<function _default_unk_index at 0x7f7a06206e18>, {'<pad>': 0, 'N': 1, 'DET': 2, 'PRP': 3, '__PUNCT__': 4, 'V': 5, 'PROP': 6, 'ADJ': 7, 'ADV': 8, 'NUM': 9, 'KC': 10, 'SPEC': 11, 'PERS': 12, 'KS': 13, 'IN': 14, 'EC': 15, 'PRON': 16})\n"
          ],
          "name": "stdout"
        }
      ]
    },
    {
      "cell_type": "markdown",
      "metadata": {
        "id": "pFetOpw2XU_L"
      },
      "source": [
        "Next, we'll define our iterators. This will define how batches of data are provided when training. We set a batch size and define `device`, which will automatically put our batch on to the GPU, if we have one.\n",
        "\n",
        "The BERT model is quite large, so the batch size here is usually smaller than usual. However, the BERT paper itself mentions how they also fine-tuned using small batch sizes, so this shouldn't cause too much of an issue."
      ]
    },
    {
      "cell_type": "code",
      "metadata": {
        "id": "BgIEyEkpXU_M"
      },
      "source": [
        "BATCH_SIZE = 32\n",
        "\n",
        "device = torch.device('cuda' if torch.cuda.is_available() else 'cpu')\n",
        "\n",
        "train_iterator, valid_iterator, test_iterator = data.BucketIterator.splits(\n",
        "    (train_data, valid_data, test_data), \n",
        "    batch_size = BATCH_SIZE,\n",
        "    device = device)"
      ],
      "execution_count": null,
      "outputs": []
    },
    {
      "cell_type": "markdown",
      "metadata": {
        "id": "gROHWG7tXU_P"
      },
      "source": [
        "## Building the Model\n",
        "\n",
        "Next up is defining our model. The model is relatively simple, with all of the complicated parts contained inside the BERT module which we do not have to worry about. We can think of the BERT as an embedding layer and all we do is add a linear layer on top of these embeddings to predict the tag for each token in the input sequence. \n",
        "\n",
        "![](https://github.com/bentrevett/pytorch-pos-tagging/blob/master/assets/pos-bert.png?raw=1)\n",
        "\n",
        "Previously the yellow squares were the embeddings provided by the embedding layer, but now they are embeddings provided by the pretrained BERT model. All inputs are passed to BERT at the same time. The arrows between the BERT embeddings indicate how BERT does not calculate embeddings for each tokens individually, but the embeddings are actually based off the other tokens within the sequence. We say the embeddings are *contextualized*.\n",
        "\n",
        "One thing to note is that we do not define an `embedding_dim` for our model, it is the size of the output of the pretrained BERT model and we cannot change it. Thus, we simply get the `embedding_dim` from the model's `hidden_size` attribute.\n",
        "\n",
        "BERT also wants sequences with the batch element first, hence we permute our input sequence before passing it to BERT."
      ]
    },
    {
      "cell_type": "code",
      "metadata": {
        "id": "0bYCKE0xXU_P"
      },
      "source": [
        "class BERTPoSTagger(nn.Module):\n",
        "    def __init__(self,\n",
        "                 bert,\n",
        "                 output_dim, \n",
        "                 dropout):\n",
        "        \n",
        "        super().__init__()\n",
        "        \n",
        "        self.bert = bert\n",
        "        \n",
        "        embedding_dim = bert.config.to_dict()['hidden_size']\n",
        "        \n",
        "        self.fc = nn.Linear(embedding_dim, output_dim)\n",
        "        \n",
        "        self.dropout = nn.Dropout(dropout)\n",
        "        \n",
        "    def forward(self, text):\n",
        "  \n",
        "        #text = [sent len, batch size]\n",
        "    \n",
        "        text = text.permute(1, 0)\n",
        "        \n",
        "        #text = [batch size, sent len]\n",
        "        \n",
        "        embedded = self.dropout(self.bert(text)[0])\n",
        "        \n",
        "        #embedded = [batch size, seq len, emb dim]\n",
        "                \n",
        "        embedded = embedded.permute(1, 0, 2)\n",
        "                    \n",
        "        #embedded = [sent len, batch size, emb dim]\n",
        "        \n",
        "        predictions = self.fc(self.dropout(embedded))\n",
        "        \n",
        "        #predictions = [sent len, batch size, output dim]\n",
        "        \n",
        "        return predictions"
      ],
      "execution_count": null,
      "outputs": []
    },
    {
      "cell_type": "markdown",
      "metadata": {
        "id": "JjnJmG9xXU_S"
      },
      "source": [
        "Next, we load the actual pretrained BERT uncased model - before we only loaded the tokenizer associated with the model.\n",
        "\n",
        "The first time we run this it will have to download the pretrained parameters."
      ]
    },
    {
      "cell_type": "code",
      "metadata": {
        "id": "q473f0kAXU_S",
        "colab": {
          "base_uri": "https://localhost:8080/",
          "height": 115,
          "referenced_widgets": [
            "f098c56d5b8b4d58bc02805fe6ecc81a",
            "bf97440604d84a0eb9762c786a054a30",
            "f61f510643354d19b2bf10bc0122b10e",
            "7dba011f3a6d48b79b08a200dc244605",
            "9ac2e0cf224c4ccb88ebe60219050a4c",
            "e4c28deb16c84f0686d7d77ed9328616",
            "fd14025405bb43a3a8a6e35502d4875b",
            "bdad53b155fa47a8a2b5b74d2d8f829d",
            "958a39a544134d619fc4f9faf2274b9f",
            "77b8307e79344917915915967dcca263",
            "9eec8b9c222b4419ac60154d9517a841",
            "bc89bc664dc648f893989caf3f035ede",
            "274d8187d82446a6a1e235760cfd36f3",
            "e7255f0128da48e88aeccfcc59d12a39",
            "357a18a04d0c48cdbb9476ce6a58bf14",
            "1407e85d81f14e058244fcdcc09461d6"
          ]
        },
        "outputId": "575ded10-f8ec-4b99-8312-be297e8bc772"
      },
      "source": [
        "### Here I'll be using a different pre-trained model: https://github.com/neuralmind-ai/portuguese-bert\n",
        "bert = BertModel.from_pretrained('neuralmind/bert-base-portuguese-cased')"
      ],
      "execution_count": null,
      "outputs": [
        {
          "output_type": "display_data",
          "data": {
            "application/vnd.jupyter.widget-view+json": {
              "model_id": "f098c56d5b8b4d58bc02805fe6ecc81a",
              "version_minor": 0,
              "version_major": 2
            },
            "text/plain": [
              "HBox(children=(FloatProgress(value=0.0, description='Downloading', max=647.0, style=ProgressStyle(description_…"
            ]
          },
          "metadata": {
            "tags": []
          }
        },
        {
          "output_type": "stream",
          "text": [
            "\n"
          ],
          "name": "stdout"
        },
        {
          "output_type": "display_data",
          "data": {
            "application/vnd.jupyter.widget-view+json": {
              "model_id": "958a39a544134d619fc4f9faf2274b9f",
              "version_minor": 0,
              "version_major": 2
            },
            "text/plain": [
              "HBox(children=(FloatProgress(value=0.0, description='Downloading', max=438235074.0, style=ProgressStyle(descri…"
            ]
          },
          "metadata": {
            "tags": []
          }
        },
        {
          "output_type": "stream",
          "text": [
            "\n"
          ],
          "name": "stdout"
        }
      ]
    },
    {
      "cell_type": "markdown",
      "metadata": {
        "id": "l6ObUIfAXU_V"
      },
      "source": [
        "## Training the Model\n",
        "\n",
        "We finally get to instantiate our model - a simple linear model using BERT model to get word embeddings.\n",
        "\n",
        "Best of all, the only hyperparameter is dropout! This value has been chosen as it's a sensibile value, so there may be a better value of dropout available."
      ]
    },
    {
      "cell_type": "code",
      "metadata": {
        "id": "oS-roKk0XU_V"
      },
      "source": [
        "OUTPUT_DIM = len(UD_TAGS.vocab)\n",
        "DROPOUT = 0.25\n",
        "\n",
        "model = BERTPoSTagger(bert,\n",
        "                      OUTPUT_DIM, \n",
        "                      DROPOUT)"
      ],
      "execution_count": null,
      "outputs": []
    },
    {
      "cell_type": "markdown",
      "metadata": {
        "id": "cca5GGf-XU_Y"
      },
      "source": [
        "We can then count the number of trainable parameters. This includes the linear layer and all of the BERT parameters."
      ]
    },
    {
      "cell_type": "code",
      "metadata": {
        "id": "UHh9fi8rXU_Y",
        "colab": {
          "base_uri": "https://localhost:8080/"
        },
        "outputId": "6d5a1cc3-2081-49a3-e7f8-61d4b5cace7c"
      },
      "source": [
        "def count_parameters(model):\n",
        "    return sum(p.numel() for p in model.parameters() if p.requires_grad)\n",
        "\n",
        "print(f'The model has {count_parameters(model):,} trainable parameters')"
      ],
      "execution_count": null,
      "outputs": [
        {
          "output_type": "stream",
          "text": [
            "The model has 108,936,209 trainable parameters\n"
          ],
          "name": "stdout"
        }
      ]
    },
    {
      "cell_type": "markdown",
      "metadata": {
        "id": "OTHMkwdlXU_b"
      },
      "source": [
        "Next, we define our optimizer. Usually when fine-tuning you want to use a lower learning rate than normal, this is because we don't want to drastically change the parameters as it may cause our model to forget what it has learned. This phenomenon is called catastrophic forgetting.\n",
        "\n",
        "We pick 5e-5 (0.00005) as it is one of the three values recommended in the BERT paper. Again, there may be better values for this dataset."
      ]
    },
    {
      "cell_type": "code",
      "metadata": {
        "id": "6qIKZQ2EXU_b"
      },
      "source": [
        "LEARNING_RATE = 5e-5\n",
        "\n",
        "optimizer = optim.Adam(model.parameters(), lr = LEARNING_RATE)"
      ],
      "execution_count": null,
      "outputs": []
    },
    {
      "cell_type": "markdown",
      "metadata": {
        "id": "wsqFKO5-XU_e"
      },
      "source": [
        "The rest of the notebook is pretty similar to before.\n",
        "\n",
        "We define a loss function, making sure to ignore losses whenever the target tag is a padding token."
      ]
    },
    {
      "cell_type": "code",
      "metadata": {
        "id": "YJUz954cXU_e"
      },
      "source": [
        "TAG_PAD_IDX = UD_TAGS.vocab.stoi[UD_TAGS.pad_token]\n",
        "\n",
        "criterion = nn.CrossEntropyLoss(ignore_index = TAG_PAD_IDX)"
      ],
      "execution_count": null,
      "outputs": []
    },
    {
      "cell_type": "markdown",
      "metadata": {
        "id": "GGNagpu6XU_i"
      },
      "source": [
        "Then, we place the model on to the GPU, if we have one."
      ]
    },
    {
      "cell_type": "code",
      "metadata": {
        "id": "9Ur1XIJQXU_j"
      },
      "source": [
        "model = model.to(device)\n",
        "criterion = criterion.to(device)"
      ],
      "execution_count": null,
      "outputs": []
    },
    {
      "cell_type": "markdown",
      "metadata": {
        "id": "heUYqdiHXU_l"
      },
      "source": [
        "Like in the previous tutorial, we define a function which calculates our accuracy of predicting tags, ignoring predictions over padding tokens."
      ]
    },
    {
      "cell_type": "code",
      "metadata": {
        "id": "tvxKXAO5XU_m"
      },
      "source": [
        "def categorical_accuracy(preds, y, tag_pad_idx):\n",
        "    \"\"\"\n",
        "    Returns accuracy per batch, i.e. if you get 8/10 right, this returns 0.8, NOT 8\n",
        "    \"\"\"\n",
        "    max_preds = preds.argmax(dim = 1, keepdim = True) # get the index of the max probability\n",
        "    non_pad_elements = (y != tag_pad_idx).nonzero()\n",
        "    correct = max_preds[non_pad_elements].squeeze(1).eq(y[non_pad_elements])\n",
        "    return correct.sum() / torch.FloatTensor([y[non_pad_elements].shape[0]]).to(device)"
      ],
      "execution_count": null,
      "outputs": []
    },
    {
      "cell_type": "markdown",
      "metadata": {
        "id": "i5G_0OckXU_o"
      },
      "source": [
        "We then define our `train` and `evaluate` functions to train and test our model. "
      ]
    },
    {
      "cell_type": "code",
      "metadata": {
        "id": "mk9vFsMuXU_p"
      },
      "source": [
        "def train(model, iterator, optimizer, criterion, tag_pad_idx):\n",
        "    \n",
        "    epoch_loss = 0\n",
        "    epoch_acc = 0\n",
        "    \n",
        "    model.train()\n",
        "    \n",
        "    for batch in iterator:\n",
        "        \n",
        "        text = batch.text\n",
        "        tags = batch.udtags\n",
        "                \n",
        "        optimizer.zero_grad()\n",
        "        \n",
        "        #text = [sent len, batch size]\n",
        "        \n",
        "        predictions = model(text)\n",
        "        \n",
        "        #predictions = [sent len, batch size, output dim]\n",
        "        #tags = [sent len, batch size]\n",
        "        \n",
        "        predictions = predictions.view(-1, predictions.shape[-1])\n",
        "        tags = tags.view(-1)\n",
        "        \n",
        "        #predictions = [sent len * batch size, output dim]\n",
        "        #tags = [sent len * batch size]\n",
        "        \n",
        "        loss = criterion(predictions, tags)\n",
        "                \n",
        "        acc = categorical_accuracy(predictions, tags, tag_pad_idx)\n",
        "        \n",
        "        loss.backward()\n",
        "        \n",
        "        optimizer.step()\n",
        "        \n",
        "        epoch_loss += loss.item()\n",
        "        epoch_acc += acc.item()\n",
        "        \n",
        "    return epoch_loss / len(iterator), epoch_acc / len(iterator)"
      ],
      "execution_count": null,
      "outputs": []
    },
    {
      "cell_type": "code",
      "metadata": {
        "id": "SMz_0UzGXU_s"
      },
      "source": [
        "def evaluate(model, iterator, criterion, tag_pad_idx):\n",
        "    \n",
        "    epoch_loss = 0\n",
        "    epoch_acc = 0\n",
        "    \n",
        "    model.eval()\n",
        "    \n",
        "    with torch.no_grad():\n",
        "    \n",
        "        for batch in iterator:\n",
        "\n",
        "            text = batch.text\n",
        "            tags = batch.udtags\n",
        "            \n",
        "            predictions = model(text)\n",
        "            \n",
        "            predictions = predictions.view(-1, predictions.shape[-1])\n",
        "            tags = tags.view(-1)\n",
        "            \n",
        "            loss = criterion(predictions, tags)\n",
        "            \n",
        "            acc = categorical_accuracy(predictions, tags, tag_pad_idx)\n",
        "\n",
        "            epoch_loss += loss.item()\n",
        "            epoch_acc += acc.item()\n",
        "        \n",
        "    return epoch_loss / len(iterator), epoch_acc / len(iterator)"
      ],
      "execution_count": null,
      "outputs": []
    },
    {
      "cell_type": "markdown",
      "metadata": {
        "id": "8D4CqQNNXU_v"
      },
      "source": [
        "Then, we define a helper function used to see how long an epoch takes."
      ]
    },
    {
      "cell_type": "code",
      "metadata": {
        "id": "57McNtpWXU_v"
      },
      "source": [
        "def epoch_time(start_time, end_time):\n",
        "    elapsed_time = end_time - start_time\n",
        "    elapsed_mins = int(elapsed_time / 60)\n",
        "    elapsed_secs = int(elapsed_time - (elapsed_mins * 60))\n",
        "    return elapsed_mins, elapsed_secs"
      ],
      "execution_count": null,
      "outputs": []
    },
    {
      "cell_type": "markdown",
      "metadata": {
        "id": "TSYdBkOrXU_y"
      },
      "source": [
        "Finally, we can train our model!\n",
        "\n",
        "This model takes a considerable amount of time per epoch compared to the last model as the number of parameters is significantly higher. However, we beat the performance of our last model after only 2 epochs which takes around 2 minutes."
      ]
    },
    {
      "cell_type": "code",
      "metadata": {
        "colab": {
          "base_uri": "https://localhost:8080/"
        },
        "id": "IHHyu_oxRoBl",
        "outputId": "07fb0fd4-5f11-4ea0-fe2b-954c147ce711"
      },
      "source": [
        "N_EPOCHS = 5\n",
        "\n",
        "best_valid_loss = float('inf')\n",
        "\n",
        "for epoch in range(N_EPOCHS):\n",
        "\n",
        "    start_time = time.time()\n",
        "    \n",
        "    train_loss, train_acc = train(model, train_iterator, optimizer, criterion, TAG_PAD_IDX)\n",
        "    valid_loss, valid_acc = evaluate(model, valid_iterator, criterion, TAG_PAD_IDX)\n",
        "    \n",
        "    end_time = time.time()\n",
        "\n",
        "    epoch_mins, epoch_secs = epoch_time(start_time, end_time)\n",
        "    \n",
        "    if valid_loss < best_valid_loss:\n",
        "        best_valid_loss = valid_loss\n",
        "        torch.save(model.state_dict(), 'tut2-model.pt')\n",
        "    \n",
        "    print(f'Epoch: {epoch+1:02} | Epoch Time: {epoch_mins}m {epoch_secs}s')\n",
        "    print(f'\\tTrain Loss: {train_loss:.3f} | Train Acc: {train_acc*100:.2f}%')\n",
        "    print(f'\\t Val. Loss: {valid_loss:.3f} |  Val. Acc: {valid_acc*100:.2f}%')"
      ],
      "execution_count": null,
      "outputs": [
        {
          "output_type": "stream",
          "text": [
            "/usr/local/lib/python3.6/dist-packages/ipykernel_launcher.py:6: UserWarning: This overload of nonzero is deprecated:\n",
            "\tnonzero()\n",
            "Consider using one of the following signatures instead:\n",
            "\tnonzero(*, bool as_tuple) (Triggered internally at  /pytorch/torch/csrc/utils/python_arg_parser.cpp:882.)\n",
            "  \n"
          ],
          "name": "stderr"
        },
        {
          "output_type": "stream",
          "text": [
            "Epoch: 01 | Epoch Time: 103m 35s\n",
            "\tTrain Loss: 0.194 | Train Acc: 93.67%\n",
            "\t Val. Loss: 0.260 |  Val. Acc: 91.65%\n",
            "Epoch: 02 | Epoch Time: 103m 41s\n",
            "\tTrain Loss: 0.163 | Train Acc: 94.63%\n",
            "\t Val. Loss: 0.260 |  Val. Acc: 91.63%\n",
            "Epoch: 03 | Epoch Time: 103m 59s\n",
            "\tTrain Loss: 0.148 | Train Acc: 95.08%\n",
            "\t Val. Loss: 0.256 |  Val. Acc: 91.83%\n",
            "Epoch: 04 | Epoch Time: 101m 49s\n",
            "\tTrain Loss: 0.138 | Train Acc: 95.39%\n",
            "\t Val. Loss: 0.262 |  Val. Acc: 91.69%\n",
            "Epoch: 05 | Epoch Time: 101m 42s\n",
            "\tTrain Loss: 0.130 | Train Acc: 95.65%\n",
            "\t Val. Loss: 0.261 |  Val. Acc: 91.59%\n"
          ],
          "name": "stdout"
        }
      ]
    },
    {
      "cell_type": "markdown",
      "metadata": {
        "id": "yi8JGgQ_XU_1"
      },
      "source": [
        "We can then load our \"best\" performing model and try it out on the test set. \n",
        "\n",
        "We beat our previous model by 2%!"
      ]
    },
    {
      "cell_type": "code",
      "metadata": {
        "id": "ea6wyOs_XU_1",
        "colab": {
          "base_uri": "https://localhost:8080/"
        },
        "outputId": "bcf5062f-ebb8-4cab-f028-ebe540c2c680"
      },
      "source": [
        "model.load_state_dict(torch.load('tut2-model.pt'))\n",
        "\n",
        "test_loss, test_acc = evaluate(model, test_iterator, criterion, TAG_PAD_IDX)\n",
        "\n",
        "print(f'Test Loss: {test_loss:.3f} | Test Acc: {test_acc*100:.2f}%')"
      ],
      "execution_count": null,
      "outputs": [
        {
          "output_type": "stream",
          "text": [
            "Test Loss: 0.257 | Test Acc: 91.79%\n"
          ],
          "name": "stdout"
        }
      ]
    },
    {
      "cell_type": "markdown",
      "metadata": {
        "id": "IJ6jvG3lXU_3"
      },
      "source": [
        "## Inference\n",
        "\n",
        "We'll now see how to use our model to tag actual sentences. This is similar to the inference function from the previous notebook with the tokenization changed to match the format of our pretrained model.\n",
        "\n",
        "If we pass in a string, this means we need to split it into individual tokens which we do by using the `tokenize` function of the `tokenizer`. Afterwards, numericalize our tokens the same way we did before, using `convert_tokens_to_ids`. Then, we add the `[CLS]` token index to the beginning of the sequence. \n",
        "\n",
        "**Note**: if we forget to add the `[CLS]` token our results will not be good!\n",
        "\n",
        "We then pass the text sequence through our model to get a prediction for each token and then slice off the predictions for the `[CLS]` token as we do not care about it."
      ]
    },
    {
      "cell_type": "code",
      "metadata": {
        "id": "WIOmo6FYXU_4"
      },
      "source": [
        "def tag_sentence(model, device, sentence, tokenizer, text_field, tag_field):\n",
        "    \n",
        "    model.eval()\n",
        "    \n",
        "    if isinstance(sentence, str):\n",
        "        tokens = tokenizer.tokenize(sentence)\n",
        "    else:\n",
        "        tokens = sentence\n",
        "    \n",
        "    numericalized_tokens = tokenizer.convert_tokens_to_ids(tokens)\n",
        "    numericalized_tokens = [text_field.init_token] + numericalized_tokens\n",
        "        \n",
        "    unk_idx = text_field.unk_token\n",
        "    \n",
        "    unks = [t for t, n in zip(tokens, numericalized_tokens) if n == unk_idx]\n",
        "    \n",
        "    token_tensor = torch.LongTensor(numericalized_tokens)\n",
        "    \n",
        "    token_tensor = token_tensor.unsqueeze(-1).to(device)\n",
        "         \n",
        "    predictions = model(token_tensor)\n",
        "    \n",
        "    top_predictions = predictions.argmax(-1)\n",
        "    \n",
        "    predicted_tags = [tag_field.vocab.itos[t.item()] for t in top_predictions]\n",
        "    \n",
        "    predicted_tags = predicted_tags[1:]\n",
        "        \n",
        "    assert len(tokens) == len(predicted_tags)\n",
        "    \n",
        "    return tokens, predicted_tags, unks"
      ],
      "execution_count": null,
      "outputs": []
    },
    {
      "cell_type": "markdown",
      "metadata": {
        "id": "DEbdylXQXU_6"
      },
      "source": [
        "We can then run an example sentence through our model and receive the predicted tags."
      ]
    },
    {
      "cell_type": "code",
      "metadata": {
        "id": "-NAjXntVXU_7",
        "colab": {
          "base_uri": "https://localhost:8080/"
        },
        "outputId": "b8ff35fb-8c72-4bfa-b98a-de0186f11d3a"
      },
      "source": [
        "sentence = ' '.join([p[0] for p in phrases[0]])\n",
        "\n",
        "tokens, tags, unks = tag_sentence(model, \n",
        "                                  device, \n",
        "                                  sentence,\n",
        "                                  tokenizer,\n",
        "                                  TEXT, \n",
        "                                  UD_TAGS)\n",
        "\n",
        "print(unks)"
      ],
      "execution_count": null,
      "outputs": [
        {
          "output_type": "stream",
          "text": [
            "[]\n"
          ],
          "name": "stdout"
        }
      ]
    },
    {
      "cell_type": "markdown",
      "metadata": {
        "id": "wLgBLolPXU_9"
      },
      "source": [
        "We can then print out the tokens and their corresponding tags.\n",
        "\n",
        "Notice how \"1pm\" in the input sequence has been converted to the two tokens \"1\" and \"##pm\". What's with the two hash symbols in front of the \"pm\"? This is due to the way the tokenizer tokenizes sentences. It uses something called [byte pair encoding](https://en.wikipedia.org/wiki/Byte_pair_encoding) to split words up into more common subsequences of characters."
      ]
    },
    {
      "cell_type": "code",
      "metadata": {
        "colab": {
          "base_uri": "https://localhost:8080/"
        },
        "id": "AggcmLybZ852",
        "outputId": "61e41ca9-3281-4239-fef7-ba5e04145fd5"
      },
      "source": [
        "print(tokens)"
      ],
      "execution_count": null,
      "outputs": [
        {
          "output_type": "stream",
          "text": [
            "['PT', 'em', 'o', 'governo']\n"
          ],
          "name": "stdout"
        }
      ]
    },
    {
      "cell_type": "code",
      "metadata": {
        "id": "RHfrCjgIXU_-",
        "colab": {
          "base_uri": "https://localhost:8080/"
        },
        "outputId": "3fa2bbee-bef2-4084-9c82-5530d97ff886"
      },
      "source": [
        "print(\"Pred. Tag\\tToken\\n\")\n",
        "\n",
        "for token, tag in zip(tokens, tags):\n",
        "    print(f\"{tag}\\t\\t{token}\")"
      ],
      "execution_count": null,
      "outputs": [
        {
          "output_type": "stream",
          "text": [
            "Pred. Tag\tToken\n",
            "\n",
            "PROP\t\tPT\n",
            "PRP\t\tem\n",
            "DET\t\to\n",
            "N\t\tgoverno\n"
          ],
          "name": "stdout"
        }
      ]
    },
    {
      "cell_type": "code",
      "metadata": {
        "colab": {
          "base_uri": "https://localhost:8080/"
        },
        "id": "9iJ-S8H1IyAw",
        "outputId": "2e61fc25-776b-4087-d96f-ea0d290747ba"
      },
      "source": [
        "phrases[0]"
      ],
      "execution_count": null,
      "outputs": [
        {
          "output_type": "execute_result",
          "data": {
            "text/plain": [
              "[('PT', 'PROP'), ('em', 'PRP'), ('o', 'DET'), ('governo', 'N')]"
            ]
          },
          "metadata": {
            "tags": []
          },
          "execution_count": 44
        }
      ]
    },
    {
      "cell_type": "markdown",
      "metadata": {
        "id": "RWHICgX2XVAA"
      },
      "source": [
        "We've now fine-tuned a BERT model for part-of-speech tagging! Well done us!"
      ]
    },
    {
      "cell_type": "markdown",
      "metadata": {
        "id": "5JWQH3LJR6yX"
      },
      "source": [
        "## K-Fold Cross Validation in CetenFolha Corpus"
      ]
    },
    {
      "cell_type": "markdown",
      "metadata": {
        "id": "Y9KLTlm4TE3s"
      },
      "source": [
        "* Write test samples to files"
      ]
    },
    {
      "cell_type": "code",
      "metadata": {
        "id": "2aLztHmWHWbo"
      },
      "source": [
        "from sklearn.model_selection import KFold"
      ],
      "execution_count": null,
      "outputs": []
    },
    {
      "cell_type": "code",
      "metadata": {
        "colab": {
          "base_uri": "https://localhost:8080/"
        },
        "id": "ry460s1PHlJ8",
        "outputId": "928c5315-d21f-4e34-c89f-43ed8ad9aebd"
      },
      "source": [
        "k=500000\n",
        "\n",
        "kf = KFold(n_splits=5, random_state=42, shuffle=True)\n",
        "\n",
        "phrases_data = np.array(phrases)\n",
        "\n",
        "sep_word=\"\\t\"\n",
        "sep_sentence=\"\\n\"\n",
        "round = 0\n",
        "for train_index, test_index in kf.split(phrases_data):\n",
        "    round=round+1\n",
        "    print('CV Round '+str(round))\n",
        "    print('Train test split: '+ str(len(train_index))+','+str(len(test_index)))\n",
        "    f = open(\"test-kfold-round-\"+str(round)+\".txt\",\"w\")\n",
        "    for p in phrases_data[test_index]: \n",
        "      for w in p:\n",
        "        f.write(w[0]+sep_word+w[1]+sep_sentence)\n",
        "      f.write(sep_sentence)\n",
        "    f.close()"
      ],
      "execution_count": null,
      "outputs": [
        {
          "output_type": "stream",
          "text": [
            "/usr/local/lib/python3.6/dist-packages/ipykernel_launcher.py:5: VisibleDeprecationWarning: Creating an ndarray from ragged nested sequences (which is a list-or-tuple of lists-or-tuples-or ndarrays with different lengths or shapes) is deprecated. If you meant to do this, you must specify 'dtype=object' when creating the ndarray\n",
            "  \"\"\"\n"
          ],
          "name": "stderr"
        },
        {
          "output_type": "stream",
          "text": [
            "CV Round 1\n",
            "Train test split: 1354383,338596\n",
            "CV Round 2\n",
            "Train test split: 1354383,338596\n",
            "CV Round 3\n",
            "Train test split: 1354383,338596\n",
            "CV Round 4\n",
            "Train test split: 1354383,338596\n",
            "CV Round 5\n",
            "Train test split: 1354384,338595\n"
          ],
          "name": "stdout"
        }
      ]
    },
    {
      "cell_type": "code",
      "metadata": {
        "colab": {
          "base_uri": "https://localhost:8080/"
        },
        "id": "aAaPCPtRHkTd",
        "outputId": "a9b674bf-f85e-4c46-e447-2651528c8333"
      },
      "source": [
        "fold1, fold2, fold3= datasets.UDPOS.splits(\n",
        "    fields=fields,\n",
        "    path=\"./\",\n",
        "    train=\"test-kfold-round-1.txt\",\n",
        "    validation=\"test-kfold-round-2.txt\",\n",
        "    test=\"test-kfold-round-3.txt\", separator='\\t')\n",
        "\n",
        "fold4, fold5= datasets.UDPOS.splits(\n",
        "    fields=fields,\n",
        "    path=\"./\",\n",
        "    train=\"test-kfold-round-4.txt\",\n",
        "    validation=\"test-kfold-round-5.txt\",\n",
        "    test=None,\n",
        "    separator='\\t')\n",
        "\n",
        "print(len(fold1))\n",
        "print(len(fold2))\n",
        "print(len(fold3))\n",
        "print(len(fold4))\n",
        "print(len(fold5))\n",
        "\n",
        "\n",
        "BATCH_SIZE = 32\n",
        "\n",
        "device = torch.device('cuda' if torch.cuda.is_available() else 'cpu')\n",
        "\n",
        "fold1_iterator, fold2_iterator, fold3_iterator, fold4_iterator, fold5_iterator = data.BucketIterator.splits(\n",
        "    (fold1, fold2, fold3, fold4, fold5), \n",
        "    batch_size = BATCH_SIZE,\n",
        "    device = device)"
      ],
      "execution_count": null,
      "outputs": [
        {
          "output_type": "stream",
          "text": [
            "338596\n",
            "338596\n",
            "338596\n",
            "338596\n",
            "338595\n"
          ],
          "name": "stdout"
        }
      ]
    },
    {
      "cell_type": "code",
      "metadata": {
        "colab": {
          "base_uri": "https://localhost:8080/"
        },
        "id": "QrwbtZ_xLCXA",
        "outputId": "4fa02605-bb02-4576-b108-32421f63a83d"
      },
      "source": [
        "%%time\n",
        "model.load_state_dict(torch.load('tut2-model.pt'))\n",
        "\n",
        "test_loss, test_acc = evaluate(model, fold1_iterator, criterion, TAG_PAD_IDX)\n",
        "print(f'Fold 1: '+ f'Test Loss: {test_loss:.3f} | Test Acc: {test_acc*100:.2f}%')\n",
        "\n",
        "test_loss, test_acc = evaluate(model, fold2_iterator, criterion, TAG_PAD_IDX)\n",
        "print(f'Fold 2: '+ f'Test Loss: {test_loss:.3f} | Test Acc: {test_acc*100:.2f}%')\n",
        "\n",
        "test_loss, test_acc = evaluate(model, fold3_iterator, criterion, TAG_PAD_IDX)\n",
        "print(f'Fold 3: '+ f'Test Loss: {test_loss:.3f} | Test Acc: {test_acc*100:.2f}%')\n",
        "\n",
        "test_loss, test_acc = evaluate(model, fold4_iterator, criterion, TAG_PAD_IDX)\n",
        "print(f'Fold 4: '+ f'Test Loss: {test_loss:.3f} | Test Acc: {test_acc*100:.2f}%')\n",
        "\n",
        "test_loss, test_acc = evaluate(model, fold5_iterator, criterion, TAG_PAD_IDX)\n",
        "print(f'Fold 5: '+ f'Test Loss: {test_loss:.3f} | Test Acc: {test_acc*100:.2f}%')"
      ],
      "execution_count": null,
      "outputs": [
        {
          "output_type": "stream",
          "text": [
            "Fold 1: Test Loss: 0.167 | Test Acc: 94.61%\n",
            "Fold 2: Test Loss: 0.224 | Test Acc: 92.76%\n",
            "Fold 3: Test Loss: 0.223 | Test Acc: 92.77%\n",
            "Fold 4: Test Loss: 0.223 | Test Acc: 92.78%\n",
            "Fold 5: Test Loss: 0.225 | Test Acc: 92.72%\n",
            "CPU times: user 21min 36s, sys: 3min 56s, total: 25min 32s\n",
            "Wall time: 25min 32s\n"
          ],
          "name": "stdout"
        }
      ]
    },
    {
      "cell_type": "markdown",
      "metadata": {
        "id": "QDpuRbYAN6ku"
      },
      "source": [
        "# Nova seção"
      ]
    },
    {
      "cell_type": "code",
      "metadata": {
        "id": "p5laT7_iN9Kb"
      },
      "source": [
        ""
      ],
      "execution_count": null,
      "outputs": []
    },
    {
      "cell_type": "code",
      "metadata": {
        "id": "1gZ6GtIQN521"
      },
      "source": [
        ""
      ],
      "execution_count": null,
      "outputs": []
    }
  ]
}